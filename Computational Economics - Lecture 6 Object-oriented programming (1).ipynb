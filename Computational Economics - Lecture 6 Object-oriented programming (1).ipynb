{
 "cells": [
  {
   "cell_type": "markdown",
   "id": "d35e0b49",
   "metadata": {},
   "source": [
    "# Object-oriented programming (OOP)\n",
    "\n",
    "OOP is one of the major paradigms in programming.\n",
    "\n",
    "The traditional programming paradigm (as, for example, in MATLAB) is called _procedural_.\n",
    "\n",
    "Procedural works as follows:\n",
    "\n",
    " - the program has a state corresponding to the values of its variables\n",
    " - functions are called to act on these data\n",
    " - data are passed back and forth via function calls\n",
    " \n",
    "In contrast, in the OOP paradigm\n",
    "\n",
    " - data and functions are \"bundled together\" into __objects__\n",
    " \n",
    "(We refer to functions in this context as __methods__). ,,,like functions that come with object\n",
    "\n",
    "### Python and OOP\n",
    "Python is a pragmatic language that blends object-oriented and procedural styles, rather than taking a purist approach.\n",
    "\n",
    "However, at a foundational level, Python is object-oriented.\n",
    "\n",
    "In particular, in Python, _everything is an object_.\n",
    "\n",
    "We will now explore what that means and why it matters.\n",
    "\n",
    "## Objects\n",
    "An _object_ is a collection of data and instructions held in computer memory that consists of\n",
    "\n",
    " 1. a type\n",
    " 2. a unique identity\n",
    " 3. data (i.e., content)\n",
    " 4. methods\n",
    " \n",
    "### Type\n",
    "Python provides different types of objects, to accommodate different categories of data.\n",
    "\n",
    "For example:"
   ]
  },
  {
   "cell_type": "code",
   "execution_count": 3,
   "id": "f72f2225",
   "metadata": {},
   "outputs": [
    {
     "data": {
      "text/plain": [
       "str"
      ]
     },
     "execution_count": 3,
     "metadata": {},
     "output_type": "execute_result"
    }
   ],
   "source": [
    "s = 'This is a string'\n",
    "type(s)"
   ]
  },
  {
   "cell_type": "code",
   "execution_count": 5,
   "id": "087841e6",
   "metadata": {},
   "outputs": [
    {
     "data": {
      "text/plain": [
       "int"
      ]
     },
     "execution_count": 5,
     "metadata": {},
     "output_type": "execute_result"
    }
   ],
   "source": [
    "x = 123 # this is an integer\n",
    "type(x)"
   ]
  },
  {
   "cell_type": "markdown",
   "id": "42cb38cd",
   "metadata": {},
   "source": [
    "The type of an object matters for many expressions.\n",
    "\n",
    "For example, the addition operator between two strings means concatenation."
   ]
  },
  {
   "cell_type": "code",
   "execution_count": 8,
   "id": "bfc92089",
   "metadata": {},
   "outputs": [
    {
     "data": {
      "text/plain": [
       "'This is a string.'"
      ]
     },
     "execution_count": 8,
     "metadata": {},
     "output_type": "execute_result"
    }
   ],
   "source": [
    "s + '.'"
   ]
  },
  {
   "cell_type": "code",
   "execution_count": 10,
   "id": "07c40075",
   "metadata": {},
   "outputs": [
    {
     "data": {
      "text/plain": [
       "'300cc'"
      ]
     },
     "execution_count": 10,
     "metadata": {},
     "output_type": "execute_result"
    }
   ],
   "source": [
    "'300' + 'cc'"
   ]
  },
  {
   "cell_type": "markdown",
   "id": "3b2a3217",
   "metadata": {},
   "source": [
    "On the other hand, between two numbers the addition operator means ordinary addition."
   ]
  },
  {
   "cell_type": "code",
   "execution_count": 13,
   "id": "b4d38648",
   "metadata": {},
   "outputs": [
    {
     "data": {
      "text/plain": [
       "700"
      ]
     },
     "execution_count": 13,
     "metadata": {},
     "output_type": "execute_result"
    }
   ],
   "source": [
    "300 + 400"
   ]
  },
  {
   "cell_type": "markdown",
   "id": "58b16357",
   "metadata": {},
   "source": [
    "What if we want to \"mix\" an integer and a string?"
   ]
  },
  {
   "cell_type": "code",
   "execution_count": 16,
   "id": "5551a3f5",
   "metadata": {},
   "outputs": [
    {
     "ename": "TypeError",
     "evalue": "can only concatenate str (not \"int\") to str",
     "output_type": "error",
     "traceback": [
      "\u001b[1;31m---------------------------------------------------------------------------\u001b[0m",
      "\u001b[1;31mTypeError\u001b[0m                                 Traceback (most recent call last)",
      "Cell \u001b[1;32mIn[16], line 1\u001b[0m\n\u001b[1;32m----> 1\u001b[0m \u001b[38;5;124m'\u001b[39m\u001b[38;5;124m300\u001b[39m\u001b[38;5;124m'\u001b[39m \u001b[38;5;241m+\u001b[39m \u001b[38;5;241m400\u001b[39m\n",
      "\u001b[1;31mTypeError\u001b[0m: can only concatenate str (not \"int\") to str"
     ]
    }
   ],
   "source": [
    "'300' + 400"
   ]
  },
  {
   "cell_type": "markdown",
   "id": "a161fb8e",
   "metadata": {},
   "source": [
    "Python does not know what the user wants:\n",
    "\n",
    " - convert `'300'` to an integer and then add it to `400`?\n",
    " - or convert `400` to a string and then concatenate it with `'300'`?\n",
    " \n",
    "Other languages might try to guess but Python is _strongly typed_\n",
    "\n",
    " - type is important, and implicit type conversion is rare\n",
    " - Python will respond instead by raising a `TypeError`\n",
    "\n",
    "To avoid the error, we have to clarify what we want by changing the type(s)."
   ]
  },
  {
   "cell_type": "code",
   "execution_count": 19,
   "id": "5f38fc8d",
   "metadata": {},
   "outputs": [
    {
     "data": {
      "text/plain": [
       "700"
      ]
     },
     "execution_count": 19,
     "metadata": {},
     "output_type": "execute_result"
    }
   ],
   "source": [
    "int('300') + 400"
   ]
  },
  {
   "cell_type": "code",
   "execution_count": 21,
   "id": "b4f66659-556d-4d5d-8f35-f10a17adf2b7",
   "metadata": {},
   "outputs": [
    {
     "data": {
      "text/plain": [
       "'300400'"
      ]
     },
     "execution_count": 21,
     "metadata": {},
     "output_type": "execute_result"
    }
   ],
   "source": [
    "'300' + str(400)"
   ]
  },
  {
   "cell_type": "markdown",
   "id": "b4181586-be4e-4afa-81f9-666e73c46ee8",
   "metadata": {},
   "source": [
    "Some types are compatible (e.g., floats and integers):"
   ]
  },
  {
   "cell_type": "code",
   "execution_count": 24,
   "id": "a9cff9e6-5c6c-43a1-b2b1-47712c6ad013",
   "metadata": {},
   "outputs": [
    {
     "data": {
      "text/plain": [
       "19.9"
      ]
     },
     "execution_count": 24,
     "metadata": {},
     "output_type": "execute_result"
    }
   ],
   "source": [
    "10 + 9.9"
   ]
  },
  {
   "cell_type": "markdown",
   "id": "4ec215c4",
   "metadata": {},
   "source": [
    "### Identity\n",
    "Each object has a unique identifier, which helps Python to keep track of the object.\n",
    "\n",
    "We can ask for an object's identity via the `id()` function."
   ]
  },
  {
   "cell_type": "code",
   "execution_count": 27,
   "id": "469d260c",
   "metadata": {},
   "outputs": [
    {
     "data": {
      "text/plain": [
       "1754480022960"
      ]
     },
     "execution_count": 27,
     "metadata": {},
     "output_type": "execute_result"
    }
   ],
   "source": [
    "y = 2.5\n",
    "z = 2.5\n",
    "id(y)"
   ]
  },
  {
   "cell_type": "code",
   "execution_count": 29,
   "id": "b4705d80",
   "metadata": {},
   "outputs": [
    {
     "data": {
      "text/plain": [
       "1752348212784"
      ]
     },
     "execution_count": 29,
     "metadata": {},
     "output_type": "execute_result"
    }
   ],
   "source": [
    "id(z)"
   ]
  },
  {
   "cell_type": "markdown",
   "id": "a1119811",
   "metadata": {},
   "source": [
    "`y` and `z` have the same value, but they are not the same object. The identity of an object is basically just the address of the object in memory.\n",
    "\n",
    "### Object Content: Data and Attributes\n",
    "If we set `x = 123`, we create an object of type `int` that contains the data `123`.\n",
    "\n",
    "In fact, it contains more than just that."
   ]
  },
  {
   "cell_type": "code",
   "execution_count": 32,
   "id": "ec919207",
   "metadata": {},
   "outputs": [
    {
     "data": {
      "text/plain": [
       "123"
      ]
     },
     "execution_count": 32,
     "metadata": {},
     "output_type": "execute_result"
    }
   ],
   "source": [
    "x = 123\n",
    "x"
   ]
  },
  {
   "cell_type": "code",
   "execution_count": 34,
   "id": "1c16e619",
   "metadata": {},
   "outputs": [
    {
     "data": {
      "text/plain": [
       "0"
      ]
     },
     "execution_count": 34,
     "metadata": {},
     "output_type": "execute_result"
    }
   ],
   "source": [
    "x.imag"
   ]
  },
  {
   "cell_type": "markdown",
   "id": "8c71d5dc",
   "metadata": {},
   "source": [
    "When Python creates this integer object, it stores with it various auxiliary information, such as the imaginary part, and the type.\n",
    "\n",
    "Any name following a dot is called _an attribute_ of the object to the left of the dot.\n",
    "\n",
    " - `imag` is an attribute of `x`\n",
    "\n",
    "Objects therefore have attributes that contain auxiliary information.\n",
    "\n",
    "They also have attributes that act like functions, called _methods_.\n",
    "\n",
    "\n",
    "### Methods\n",
    "Methods are _functions that are bundled with objects_.\n",
    "\n",
    "Formally, methods are attributes of objects that are callable (i.e., they can be called as functions)."
   ]
  },
  {
   "cell_type": "code",
   "execution_count": 37,
   "id": "3c7be4a2",
   "metadata": {},
   "outputs": [
    {
     "data": {
      "text/plain": [
       "True"
      ]
     },
     "execution_count": 37,
     "metadata": {},
     "output_type": "execute_result"
    }
   ],
   "source": [
    "x = ['Aus','tin']\n",
    "callable(x.append)"
   ]
  },
  {
   "cell_type": "code",
   "execution_count": 39,
   "id": "2eeb5741",
   "metadata": {},
   "outputs": [
    {
     "data": {
      "text/plain": [
       "False"
      ]
     },
     "execution_count": 39,
     "metadata": {},
     "output_type": "execute_result"
    }
   ],
   "source": [
    "callable(x.__doc__)"
   ]
  },
  {
   "cell_type": "markdown",
   "id": "5de7e8ef",
   "metadata": {},
   "source": [
    "Methods typically act on the data contained in the object they belong to, or combine that data with other data"
   ]
  },
  {
   "cell_type": "code",
   "execution_count": 42,
   "id": "d76461a9",
   "metadata": {},
   "outputs": [
    {
     "data": {
      "text/plain": [
       "['Aus', 'tin', 'TX']"
      ]
     },
     "execution_count": 42,
     "metadata": {},
     "output_type": "execute_result"
    }
   ],
   "source": [
    "x.append('TX')\n",
    "x"
   ]
  },
  {
   "cell_type": "code",
   "execution_count": 44,
   "id": "1077baac",
   "metadata": {},
   "outputs": [
    {
     "data": {
      "text/plain": [
       "'This is a string'"
      ]
     },
     "execution_count": 44,
     "metadata": {},
     "output_type": "execute_result"
    }
   ],
   "source": [
    "s"
   ]
  },
  {
   "cell_type": "code",
   "execution_count": 46,
   "id": "3bd4708c",
   "metadata": {},
   "outputs": [
    {
     "data": {
      "text/plain": [
       "'THIS IS A STRING'"
      ]
     },
     "execution_count": 46,
     "metadata": {},
     "output_type": "execute_result"
    }
   ],
   "source": [
    "s.upper()"
   ]
  },
  {
   "cell_type": "code",
   "execution_count": 48,
   "id": "aaef9029",
   "metadata": {},
   "outputs": [
    {
     "data": {
      "text/plain": [
       "'this is a string'"
      ]
     },
     "execution_count": 48,
     "metadata": {},
     "output_type": "execute_result"
    }
   ],
   "source": [
    "s.lower()"
   ]
  },
  {
   "cell_type": "code",
   "execution_count": 50,
   "id": "5e36874c-aae6-4534-81e3-e6155cb19db8",
   "metadata": {},
   "outputs": [
    {
     "data": {
      "text/plain": [
       "'This is a string'"
      ]
     },
     "execution_count": 50,
     "metadata": {},
     "output_type": "execute_result"
    }
   ],
   "source": [
    "s.capitalize()"
   ]
  },
  {
   "cell_type": "code",
   "execution_count": 52,
   "id": "1ed3d8a1-786a-4dc8-b537-404e73b6729d",
   "metadata": {},
   "outputs": [
    {
     "data": {
      "text/plain": [
       "'This Is A String'"
      ]
     },
     "execution_count": 52,
     "metadata": {},
     "output_type": "execute_result"
    }
   ],
   "source": [
    "s.title()"
   ]
  },
  {
   "cell_type": "code",
   "execution_count": 54,
   "id": "0efdf746",
   "metadata": {},
   "outputs": [
    {
     "data": {
      "text/plain": [
       "'That is a string'"
      ]
     },
     "execution_count": 54,
     "metadata": {},
     "output_type": "execute_result"
    }
   ],
   "source": [
    "s.replace('This', 'That')"
   ]
  },
  {
   "cell_type": "markdown",
   "id": "a6a3f500",
   "metadata": {},
   "source": [
    "A great deal of Python functionality is organized around method calls."
   ]
  },
  {
   "cell_type": "code",
   "execution_count": 57,
   "id": "8fd6e368",
   "metadata": {},
   "outputs": [
    {
     "data": {
      "text/plain": [
       "['Austin', 'TX']"
      ]
     },
     "execution_count": 57,
     "metadata": {},
     "output_type": "execute_result"
    }
   ],
   "source": [
    "x.pop(1)\n",
    "x[0] = 'Austin'\n",
    "x"
   ]
  },
  {
   "cell_type": "markdown",
   "id": "52aa7dce",
   "metadata": {},
   "source": [
    "It doesn't look like the second line in the previous program uses any methods, but the square bracket assignment notation is in fact just a convenient interface to a method call.\n",
    "\n",
    "What actually happens is that Python calls the `__setitem` method:"
   ]
  },
  {
   "cell_type": "code",
   "execution_count": 60,
   "id": "7c966715",
   "metadata": {},
   "outputs": [
    {
     "data": {
      "text/plain": [
       "['Austin', 'TX']"
      ]
     },
     "execution_count": 60,
     "metadata": {},
     "output_type": "execute_result"
    }
   ],
   "source": [
    "x = ['Aus','TX']\n",
    "x.__setitem__(0,'Austin') # this is equivalent to x[0] = 'Austin'\n",
    "x"
   ]
  },
  {
   "cell_type": "markdown",
   "id": "637a297e",
   "metadata": {},
   "source": [
    "## Names and Name Resolution\n",
    "### Variable Names in Python\n",
    "Consider the statement:"
   ]
  },
  {
   "cell_type": "code",
   "execution_count": 63,
   "id": "53d2dca8",
   "metadata": {},
   "outputs": [],
   "source": [
    "x = 123"
   ]
  },
  {
   "cell_type": "markdown",
   "id": "ab791570",
   "metadata": {},
   "source": [
    "We now know that when this statement is executed, Python creates an object of type `int` in the computer's memory, containing\n",
    "\n",
    " - the value `123`\n",
    " - some associated attributes\n",
    " \n",
    "But what is `x` itself?\n",
    "\n",
    "In Python, `x` is called a _name_, and the statement `x = 123` _binds_ the name `x` to the integer object.\n",
    "\n",
    "Under the hood, this process of binding names to objects is implemented as a dictionary.\n",
    "\n",
    "We can easily bind two or more names to one object, regardless of what the object is."
   ]
  },
  {
   "cell_type": "code",
   "execution_count": 66,
   "id": "47f23bf5",
   "metadata": {},
   "outputs": [
    {
     "data": {
      "text/plain": [
       "True"
      ]
     },
     "execution_count": 66,
     "metadata": {},
     "output_type": "execute_result"
    }
   ],
   "source": [
    "def f(string): # create a function called f\n",
    "    print(string)\n",
    "    \n",
    "g = f\n",
    "id(g) == id(f)"
   ]
  },
  {
   "cell_type": "code",
   "execution_count": 68,
   "id": "59f67a4b",
   "metadata": {},
   "outputs": [
    {
     "name": "stdout",
     "output_type": "stream",
     "text": [
      "test\n"
     ]
    }
   ],
   "source": [
    "g('test')"
   ]
  },
  {
   "cell_type": "markdown",
   "id": "309604dd",
   "metadata": {},
   "source": [
    "Here, we first created a function object and the name `f` is bound to it.\n",
    "\n",
    "After binding the name `g` to the same object, we can use it anywhere we would use `f`.\n",
    "\n",
    "What happens when the number of names bound to an object goes to zero?\n",
    "\n",
    "Let's see an example, where we first bind the name `x` to one object and then rebind it to another."
   ]
  },
  {
   "cell_type": "code",
   "execution_count": 71,
   "id": "41a8a337",
   "metadata": {},
   "outputs": [
    {
     "data": {
      "text/plain": [
       "1754481434976"
      ]
     },
     "execution_count": 71,
     "metadata": {},
     "output_type": "execute_result"
    }
   ],
   "source": [
    "x = 'Austin'\n",
    "id(x)"
   ]
  },
  {
   "cell_type": "code",
   "execution_count": 73,
   "id": "cb4362e2",
   "metadata": {},
   "outputs": [],
   "source": [
    "x = 'Texas'"
   ]
  },
  {
   "cell_type": "code",
   "execution_count": 75,
   "id": "3c4d340b",
   "metadata": {},
   "outputs": [
    {
     "data": {
      "text/plain": [
       "1754449377104"
      ]
     },
     "execution_count": 75,
     "metadata": {},
     "output_type": "execute_result"
    }
   ],
   "source": [
    "id(x)"
   ]
  },
  {
   "cell_type": "markdown",
   "id": "5694a0e8",
   "metadata": {},
   "source": [
    "We say that the first object is garbage collected.\n",
    "\n",
    "In other words, the memory slot that stores that object is deallocated, and returned to the operating system.\n",
    "\n",
    "(Garbage collection is an actve research area in computer science...)\n",
    "\n",
    "### Namespaces\n",
    "The statement"
   ]
  },
  {
   "cell_type": "code",
   "execution_count": 30,
   "id": "ec84bfb0",
   "metadata": {},
   "outputs": [],
   "source": [
    "x = 123"
   ]
  },
  {
   "cell_type": "markdown",
   "id": "4ba2f04d",
   "metadata": {},
   "source": [
    "binds the name `x` to the integer object on the right-hand side.\n",
    "\n",
    "We also discussed that this process of binding `x`to the correct object is implemented as a dictionary.\n",
    "\n",
    "This dictionary is called a _namespace_.\n",
    "\n",
    "A namespace is a symbol table that maps names to objects in memory.\n",
    "\n",
    "Python uses multiple namespaces, creating them on the fly as necessary.\n",
    "\n",
    "For example, every time we import a module, Python creates a namespace for that module.\n",
    "\n",
    "To see this in action, suppose we write a script `compecon.py` with a single line."
   ]
  },
  {
   "cell_type": "code",
   "execution_count": 79,
   "id": "8adfeedc",
   "metadata": {},
   "outputs": [
    {
     "name": "stdout",
     "output_type": "stream",
     "text": [
      "Writing compecon.py\n"
     ]
    }
   ],
   "source": [
    "%%file compecon.py\n",
    "pi = 'Computational economics is fun!'"
   ]
  },
  {
   "cell_type": "markdown",
   "id": "80642d79",
   "metadata": {},
   "source": [
    "Now, we start the Python interpreter and import it:"
   ]
  },
  {
   "cell_type": "code",
   "execution_count": 82,
   "id": "dc970dd0",
   "metadata": {},
   "outputs": [],
   "source": [
    "import compecon"
   ]
  },
  {
   "cell_type": "markdown",
   "id": "34961bf2",
   "metadata": {},
   "source": [
    "We now import the `math` module from the standard library."
   ]
  },
  {
   "cell_type": "code",
   "execution_count": 85,
   "id": "16f3a9e5",
   "metadata": {},
   "outputs": [],
   "source": [
    "import math"
   ]
  },
  {
   "cell_type": "markdown",
   "id": "b810bd62",
   "metadata": {},
   "source": [
    "Both modules have an attribute called `pi`"
   ]
  },
  {
   "cell_type": "code",
   "execution_count": 88,
   "id": "5fa91e65",
   "metadata": {},
   "outputs": [
    {
     "data": {
      "text/plain": [
       "3.141592653589793"
      ]
     },
     "execution_count": 88,
     "metadata": {},
     "output_type": "execute_result"
    }
   ],
   "source": [
    "math.pi"
   ]
  },
  {
   "cell_type": "code",
   "execution_count": 90,
   "id": "3426ef92",
   "metadata": {},
   "outputs": [
    {
     "data": {
      "text/plain": [
       "'Computational economics is fun!'"
      ]
     },
     "execution_count": 90,
     "metadata": {},
     "output_type": "execute_result"
    }
   ],
   "source": [
    "compecon.pi"
   ]
  },
  {
   "cell_type": "markdown",
   "id": "ff3097f5",
   "metadata": {},
   "source": [
    "These two different bindings of `pi` exist in different namespaces, each one implemented as a dictionary.\n",
    "\n",
    "We can look at the dictionary directly, using `module_name.__dict__`."
   ]
  },
  {
   "cell_type": "code",
   "execution_count": 93,
   "id": "c518e55a",
   "metadata": {},
   "outputs": [
    {
     "data": {
      "text/plain": [
       "dict_items([('__name__', 'math'), ('__doc__', 'This module provides access to the mathematical functions\\ndefined by the C standard.'), ('__package__', ''), ('__loader__', <class '_frozen_importlib.BuiltinImporter'>), ('__spec__', ModuleSpec(name='math', loader=<class '_frozen_importlib.BuiltinImporter'>, origin='built-in')), ('acos', <built-in function acos>), ('acosh', <built-in function acosh>), ('asin', <built-in function asin>), ('asinh', <built-in function asinh>), ('atan', <built-in function atan>), ('atan2', <built-in function atan2>), ('atanh', <built-in function atanh>), ('cbrt', <built-in function cbrt>), ('ceil', <built-in function ceil>), ('copysign', <built-in function copysign>), ('cos', <built-in function cos>), ('cosh', <built-in function cosh>), ('degrees', <built-in function degrees>), ('dist', <built-in function dist>), ('erf', <built-in function erf>), ('erfc', <built-in function erfc>), ('exp', <built-in function exp>), ('exp2', <built-in function exp2>), ('expm1', <built-in function expm1>), ('fabs', <built-in function fabs>), ('factorial', <built-in function factorial>), ('floor', <built-in function floor>), ('fmod', <built-in function fmod>), ('frexp', <built-in function frexp>), ('fsum', <built-in function fsum>), ('gamma', <built-in function gamma>), ('gcd', <built-in function gcd>), ('hypot', <built-in function hypot>), ('isclose', <built-in function isclose>), ('isfinite', <built-in function isfinite>), ('isinf', <built-in function isinf>), ('isnan', <built-in function isnan>), ('isqrt', <built-in function isqrt>), ('lcm', <built-in function lcm>), ('ldexp', <built-in function ldexp>), ('lgamma', <built-in function lgamma>), ('log', <built-in function log>), ('log1p', <built-in function log1p>), ('log10', <built-in function log10>), ('log2', <built-in function log2>), ('modf', <built-in function modf>), ('pow', <built-in function pow>), ('radians', <built-in function radians>), ('remainder', <built-in function remainder>), ('sin', <built-in function sin>), ('sinh', <built-in function sinh>), ('sqrt', <built-in function sqrt>), ('tan', <built-in function tan>), ('tanh', <built-in function tanh>), ('sumprod', <built-in function sumprod>), ('trunc', <built-in function trunc>), ('prod', <built-in function prod>), ('perm', <built-in function perm>), ('comb', <built-in function comb>), ('nextafter', <built-in function nextafter>), ('ulp', <built-in function ulp>), ('pi', 3.141592653589793), ('e', 2.718281828459045), ('tau', 6.283185307179586), ('inf', inf), ('nan', nan)])"
      ]
     },
     "execution_count": 93,
     "metadata": {},
     "output_type": "execute_result"
    }
   ],
   "source": [
    "import math\n",
    "math.__dict__.items()"
   ]
  },
  {
   "cell_type": "code",
   "execution_count": 95,
   "id": "ab073d18",
   "metadata": {},
   "outputs": [
    {
     "data": {
      "text/plain": [
       "dict_items([('__name__', 'compecon'), ('__doc__', None), ('__package__', ''), ('__loader__', <_frozen_importlib_external.SourceFileLoader object at 0x000001987736CAA0>), ('__spec__', ModuleSpec(name='compecon', loader=<_frozen_importlib_external.SourceFileLoader object at 0x000001987736CAA0>, origin='C:\\\\Users\\\\saman\\\\compecon.py')), ('__file__', 'C:\\\\Users\\\\saman\\\\compecon.py'), ('__cached__', 'C:\\\\Users\\\\saman\\\\__pycache__\\\\compecon.cpython-312.pyc'), ('__builtins__', {'__name__': 'builtins', '__doc__': \"Built-in functions, types, exceptions, and other objects.\\n\\nThis module provides direct access to all 'built-in'\\nidentifiers of Python; for example, builtins.len is\\nthe full name for the built-in function len().\\n\\nThis module is not normally accessed explicitly by most\\napplications, but can be useful in modules that provide\\nobjects with the same name as a built-in value, but in\\nwhich the built-in of that name is also needed.\", '__package__': '', '__loader__': <class '_frozen_importlib.BuiltinImporter'>, '__spec__': ModuleSpec(name='builtins', loader=<class '_frozen_importlib.BuiltinImporter'>, origin='built-in'), '__build_class__': <built-in function __build_class__>, '__import__': <built-in function __import__>, 'abs': <built-in function abs>, 'all': <built-in function all>, 'any': <built-in function any>, 'ascii': <built-in function ascii>, 'bin': <built-in function bin>, 'breakpoint': <built-in function breakpoint>, 'callable': <built-in function callable>, 'chr': <built-in function chr>, 'compile': <built-in function compile>, 'delattr': <built-in function delattr>, 'dir': <built-in function dir>, 'divmod': <built-in function divmod>, 'eval': <built-in function eval>, 'exec': <built-in function exec>, 'format': <built-in function format>, 'getattr': <built-in function getattr>, 'globals': <built-in function globals>, 'hasattr': <built-in function hasattr>, 'hash': <built-in function hash>, 'hex': <built-in function hex>, 'id': <built-in function id>, 'input': <bound method Kernel.raw_input of <ipykernel.ipkernel.IPythonKernel object at 0x000001987CD8FFB0>>, 'isinstance': <built-in function isinstance>, 'issubclass': <built-in function issubclass>, 'iter': <built-in function iter>, 'aiter': <built-in function aiter>, 'len': <built-in function len>, 'locals': <built-in function locals>, 'max': <built-in function max>, 'min': <built-in function min>, 'next': <built-in function next>, 'anext': <built-in function anext>, 'oct': <built-in function oct>, 'ord': <built-in function ord>, 'pow': <built-in function pow>, 'print': <built-in function print>, 'repr': <built-in function repr>, 'round': <built-in function round>, 'setattr': <built-in function setattr>, 'sorted': <built-in function sorted>, 'sum': <built-in function sum>, 'vars': <built-in function vars>, 'None': None, 'Ellipsis': Ellipsis, 'NotImplemented': NotImplemented, 'False': False, 'True': True, 'bool': <class 'bool'>, 'memoryview': <class 'memoryview'>, 'bytearray': <class 'bytearray'>, 'bytes': <class 'bytes'>, 'classmethod': <class 'classmethod'>, 'complex': <class 'complex'>, 'dict': <class 'dict'>, 'enumerate': <class 'enumerate'>, 'filter': <class 'filter'>, 'float': <class 'float'>, 'frozenset': <class 'frozenset'>, 'property': <class 'property'>, 'int': <class 'int'>, 'list': <class 'list'>, 'map': <class 'map'>, 'object': <class 'object'>, 'range': <class 'range'>, 'reversed': <class 'reversed'>, 'set': <class 'set'>, 'slice': <class 'slice'>, 'staticmethod': <class 'staticmethod'>, 'str': <class 'str'>, 'super': <class 'super'>, 'tuple': <class 'tuple'>, 'type': <class 'type'>, 'zip': <class 'zip'>, '__debug__': True, 'BaseException': <class 'BaseException'>, 'BaseExceptionGroup': <class 'BaseExceptionGroup'>, 'Exception': <class 'Exception'>, 'GeneratorExit': <class 'GeneratorExit'>, 'KeyboardInterrupt': <class 'KeyboardInterrupt'>, 'SystemExit': <class 'SystemExit'>, 'ArithmeticError': <class 'ArithmeticError'>, 'AssertionError': <class 'AssertionError'>, 'AttributeError': <class 'AttributeError'>, 'BufferError': <class 'BufferError'>, 'EOFError': <class 'EOFError'>, 'ImportError': <class 'ImportError'>, 'LookupError': <class 'LookupError'>, 'MemoryError': <class 'MemoryError'>, 'NameError': <class 'NameError'>, 'OSError': <class 'OSError'>, 'ReferenceError': <class 'ReferenceError'>, 'RuntimeError': <class 'RuntimeError'>, 'StopAsyncIteration': <class 'StopAsyncIteration'>, 'StopIteration': <class 'StopIteration'>, 'SyntaxError': <class 'SyntaxError'>, 'SystemError': <class 'SystemError'>, 'TypeError': <class 'TypeError'>, 'ValueError': <class 'ValueError'>, 'Warning': <class 'Warning'>, 'FloatingPointError': <class 'FloatingPointError'>, 'OverflowError': <class 'OverflowError'>, 'ZeroDivisionError': <class 'ZeroDivisionError'>, 'BytesWarning': <class 'BytesWarning'>, 'DeprecationWarning': <class 'DeprecationWarning'>, 'EncodingWarning': <class 'EncodingWarning'>, 'FutureWarning': <class 'FutureWarning'>, 'ImportWarning': <class 'ImportWarning'>, 'PendingDeprecationWarning': <class 'PendingDeprecationWarning'>, 'ResourceWarning': <class 'ResourceWarning'>, 'RuntimeWarning': <class 'RuntimeWarning'>, 'SyntaxWarning': <class 'SyntaxWarning'>, 'UnicodeWarning': <class 'UnicodeWarning'>, 'UserWarning': <class 'UserWarning'>, 'BlockingIOError': <class 'BlockingIOError'>, 'ChildProcessError': <class 'ChildProcessError'>, 'ConnectionError': <class 'ConnectionError'>, 'FileExistsError': <class 'FileExistsError'>, 'FileNotFoundError': <class 'FileNotFoundError'>, 'InterruptedError': <class 'InterruptedError'>, 'IsADirectoryError': <class 'IsADirectoryError'>, 'NotADirectoryError': <class 'NotADirectoryError'>, 'PermissionError': <class 'PermissionError'>, 'ProcessLookupError': <class 'ProcessLookupError'>, 'TimeoutError': <class 'TimeoutError'>, 'IndentationError': <class 'IndentationError'>, 'IndexError': <class 'IndexError'>, 'KeyError': <class 'KeyError'>, 'ModuleNotFoundError': <class 'ModuleNotFoundError'>, 'NotImplementedError': <class 'NotImplementedError'>, 'RecursionError': <class 'RecursionError'>, 'UnboundLocalError': <class 'UnboundLocalError'>, 'UnicodeError': <class 'UnicodeError'>, 'BrokenPipeError': <class 'BrokenPipeError'>, 'ConnectionAbortedError': <class 'ConnectionAbortedError'>, 'ConnectionRefusedError': <class 'ConnectionRefusedError'>, 'ConnectionResetError': <class 'ConnectionResetError'>, 'TabError': <class 'TabError'>, 'UnicodeDecodeError': <class 'UnicodeDecodeError'>, 'UnicodeEncodeError': <class 'UnicodeEncodeError'>, 'UnicodeTranslateError': <class 'UnicodeTranslateError'>, 'ExceptionGroup': <class 'ExceptionGroup'>, 'EnvironmentError': <class 'OSError'>, 'IOError': <class 'OSError'>, 'WindowsError': <class 'OSError'>, 'open': <built-in function open>, 'copyright': Copyright (c) 2001-2023 Python Software Foundation.\n",
       "All Rights Reserved.\n",
       "\n",
       "Copyright (c) 2000 BeOpen.com.\n",
       "All Rights Reserved.\n",
       "\n",
       "Copyright (c) 1995-2001 Corporation for National Research Initiatives.\n",
       "All Rights Reserved.\n",
       "\n",
       "Copyright (c) 1991-1995 Stichting Mathematisch Centrum, Amsterdam.\n",
       "All Rights Reserved., 'credits':     Thanks to CWI, CNRI, BeOpen.com, Zope Corporation and a cast of thousands\n",
       "    for supporting Python development.  See www.python.org for more information., 'license': See https://www.python.org/psf/license/, 'help': Type help() for interactive help, or help(object) for help about object., 'execfile': <function execfile at 0x000001987CA15DA0>, 'runfile': <function runfile at 0x000001987CB12B60>, '__IPYTHON__': True, 'display': <function display at 0x0000019879EB67A0>, 'get_ipython': <bound method InteractiveShell.get_ipython of <ipykernel.zmqshell.ZMQInteractiveShell object at 0x000001987CDD05C0>>}), ('pi', 'Computational economics is fun!')])"
      ]
     },
     "execution_count": 95,
     "metadata": {},
     "output_type": "execute_result"
    }
   ],
   "source": [
    "import compecon\n",
    "compecon.__dict__.items()"
   ]
  },
  {
   "cell_type": "markdown",
   "id": "5394374c",
   "metadata": {},
   "source": [
    "### Viewing Namespaces\n",
    "Another way to see the content of the `math` namespace is by typing `vars(math)`."
   ]
  },
  {
   "cell_type": "code",
   "execution_count": 98,
   "id": "409d9ec6",
   "metadata": {},
   "outputs": [
    {
     "data": {
      "text/plain": [
       "dict_items([('__name__', 'math'), ('__doc__', 'This module provides access to the mathematical functions\\ndefined by the C standard.'), ('__package__', ''), ('__loader__', <class '_frozen_importlib.BuiltinImporter'>), ('__spec__', ModuleSpec(name='math', loader=<class '_frozen_importlib.BuiltinImporter'>, origin='built-in')), ('acos', <built-in function acos>), ('acosh', <built-in function acosh>), ('asin', <built-in function asin>), ('asinh', <built-in function asinh>), ('atan', <built-in function atan>), ('atan2', <built-in function atan2>), ('atanh', <built-in function atanh>), ('cbrt', <built-in function cbrt>), ('ceil', <built-in function ceil>), ('copysign', <built-in function copysign>), ('cos', <built-in function cos>), ('cosh', <built-in function cosh>), ('degrees', <built-in function degrees>), ('dist', <built-in function dist>), ('erf', <built-in function erf>), ('erfc', <built-in function erfc>), ('exp', <built-in function exp>), ('exp2', <built-in function exp2>), ('expm1', <built-in function expm1>), ('fabs', <built-in function fabs>), ('factorial', <built-in function factorial>), ('floor', <built-in function floor>), ('fmod', <built-in function fmod>), ('frexp', <built-in function frexp>), ('fsum', <built-in function fsum>), ('gamma', <built-in function gamma>), ('gcd', <built-in function gcd>), ('hypot', <built-in function hypot>), ('isclose', <built-in function isclose>), ('isfinite', <built-in function isfinite>), ('isinf', <built-in function isinf>), ('isnan', <built-in function isnan>), ('isqrt', <built-in function isqrt>), ('lcm', <built-in function lcm>), ('ldexp', <built-in function ldexp>), ('lgamma', <built-in function lgamma>), ('log', <built-in function log>), ('log1p', <built-in function log1p>), ('log10', <built-in function log10>), ('log2', <built-in function log2>), ('modf', <built-in function modf>), ('pow', <built-in function pow>), ('radians', <built-in function radians>), ('remainder', <built-in function remainder>), ('sin', <built-in function sin>), ('sinh', <built-in function sinh>), ('sqrt', <built-in function sqrt>), ('tan', <built-in function tan>), ('tanh', <built-in function tanh>), ('sumprod', <built-in function sumprod>), ('trunc', <built-in function trunc>), ('prod', <built-in function prod>), ('perm', <built-in function perm>), ('comb', <built-in function comb>), ('nextafter', <built-in function nextafter>), ('ulp', <built-in function ulp>), ('pi', 3.141592653589793), ('e', 2.718281828459045), ('tau', 6.283185307179586), ('inf', inf), ('nan', nan)])"
      ]
     },
     "execution_count": 98,
     "metadata": {},
     "output_type": "execute_result"
    }
   ],
   "source": [
    "vars(math).items()"
   ]
  },
  {
   "cell_type": "markdown",
   "id": "c32a6271",
   "metadata": {},
   "source": [
    "If you only want to see the names, you can type:"
   ]
  },
  {
   "cell_type": "code",
   "execution_count": 101,
   "id": "e9d1a3aa",
   "metadata": {},
   "outputs": [
    {
     "data": {
      "text/plain": [
       "['__doc__',\n",
       " '__loader__',\n",
       " '__name__',\n",
       " '__package__',\n",
       " '__spec__',\n",
       " 'acos',\n",
       " 'acosh',\n",
       " 'asin',\n",
       " 'asinh',\n",
       " 'atan']"
      ]
     },
     "execution_count": 101,
     "metadata": {},
     "output_type": "execute_result"
    }
   ],
   "source": [
    "dir(math)[0:10] # show the first 10 names"
   ]
  },
  {
   "cell_type": "markdown",
   "id": "f7240505",
   "metadata": {},
   "source": [
    "Here\n",
    " - `__doc__` is the doc string of the module\n",
    " - `__name__` is the name of the module"
   ]
  },
  {
   "cell_type": "code",
   "execution_count": 104,
   "id": "2f0c2a73",
   "metadata": {},
   "outputs": [
    {
     "name": "stdout",
     "output_type": "stream",
     "text": [
      "This module provides access to the mathematical functions\n",
      "defined by the C standard.\n"
     ]
    }
   ],
   "source": [
    "print(math.__doc__)"
   ]
  },
  {
   "cell_type": "code",
   "execution_count": 106,
   "id": "2d610b9d",
   "metadata": {},
   "outputs": [
    {
     "data": {
      "text/plain": [
       "'math'"
      ]
     },
     "execution_count": 106,
     "metadata": {},
     "output_type": "execute_result"
    }
   ],
   "source": [
    "math.__name__"
   ]
  },
  {
   "cell_type": "markdown",
   "id": "61c68d0a",
   "metadata": {},
   "source": [
    "In Python, __all__ code exectued by the interpreter runs in some module.\n",
    "\n",
    "What about commands typed at the prompt?\n",
    "\n",
    "These are also regarded as being executed within a module - in this case, a module called `__main__`.\n",
    "\n",
    "To check this, we can look at the current module name via the value of `__name__` given at the prompt."
   ]
  },
  {
   "cell_type": "code",
   "execution_count": 109,
   "id": "c46c73ee",
   "metadata": {},
   "outputs": [
    {
     "name": "stdout",
     "output_type": "stream",
     "text": [
      "__main__\n"
     ]
    }
   ],
   "source": [
    "print(__name__)"
   ]
  },
  {
   "cell_type": "markdown",
   "id": "50f2cee0",
   "metadata": {},
   "source": [
    "### The Global Namespace\n",
    "Python documentation often makes reference to the \"global namespace\".\n",
    "\n",
    "The global namespace is the _namespace of the module currently being executed_.\n",
    "\n",
    "For example, suppose that we start the interpreter and begin making assignments.\n",
    "\n",
    "We are now working in the module `__main__`, and hence the namespace for `__main__` is the global namespace.\n",
    "\n",
    "If we import a module, the interpreter creates a namespace for this module and starts executing commands in the module.\n",
    "\n",
    "While this occurs, the namespace `module_name.__dict__` is the global namespace.\n",
    "\n",
    "Once execution of the module finishes, the interpreter returns to the module from where the import statement was made.\n",
    "\n",
    "In this case, it is `__main__`, so the namespace of `__main__` again becomes the global namespace."
   ]
  },
  {
   "cell_type": "markdown",
   "id": "67b29e4b",
   "metadata": {},
   "source": [
    "### Local Namespaces\n",
    "When we call a function, the interpreter creates a _local namespace_ for that function, and registers the variables in that namespace.\n",
    "\n",
    "Variables in the local namespace are called _local variables_.\n",
    "\n",
    "After the function returns, the namespace is deallocated and lost.\n",
    "\n",
    "While the function is executing, we can view the content of the local namespace with `locals()`.\n",
    "\n",
    "For example:"
   ]
  },
  {
   "cell_type": "code",
   "execution_count": 112,
   "id": "976aee7b",
   "metadata": {},
   "outputs": [],
   "source": [
    "def f(x):\n",
    "    a = 2\n",
    "    print(locals())\n",
    "    return a * x"
   ]
  },
  {
   "cell_type": "code",
   "execution_count": 114,
   "id": "12534567",
   "metadata": {},
   "outputs": [
    {
     "name": "stdout",
     "output_type": "stream",
     "text": [
      "{'x': 1, 'a': 2}\n"
     ]
    },
    {
     "data": {
      "text/plain": [
       "2"
      ]
     },
     "execution_count": 114,
     "metadata": {},
     "output_type": "execute_result"
    }
   ],
   "source": [
    "f(1)"
   ]
  },
  {
   "cell_type": "markdown",
   "id": "6ea11391-160e-422c-a25f-edf5e741c22b",
   "metadata": {},
   "source": [
    "a only exists in local namespace, calling outside will be undefined a , if a inside function only exist in function, calling outside wont work "
   ]
  },
  {
   "cell_type": "markdown",
   "id": "694d5156",
   "metadata": {},
   "source": [
    "We can see the local namespace of `f` before it is destroyed.\n",
    "\n",
    "### The `__builtins__` Namespace\n",
    "We already used many built-in functions, like `max()`, `type()`, etc.\n",
    "\n",
    "How does access to these names work?\n",
    "\n",
    " - these definitions are stored in a module called `__builtin__`\n",
    " - they have their own namespace called `__builtins__`\n",
    " "
   ]
  },
  {
   "cell_type": "code",
   "execution_count": 117,
   "id": "e19cf831",
   "metadata": {},
   "outputs": [
    {
     "data": {
      "text/plain": [
       "['In', 'Out', '_', '_1', '_10', '_100', '_101', '_102', '_103', '_105']"
      ]
     },
     "execution_count": 117,
     "metadata": {},
     "output_type": "execute_result"
    }
   ],
   "source": [
    "dir()[0:10] # show the first 10 names in `__main__`"
   ]
  },
  {
   "cell_type": "code",
   "execution_count": 119,
   "id": "b4a8f69c",
   "metadata": {},
   "outputs": [
    {
     "data": {
      "text/plain": [
       "['ArithmeticError',\n",
       " 'AssertionError',\n",
       " 'AttributeError',\n",
       " 'BaseException',\n",
       " 'BaseExceptionGroup',\n",
       " 'BlockingIOError',\n",
       " 'BrokenPipeError',\n",
       " 'BufferError',\n",
       " 'BytesWarning',\n",
       " 'ChildProcessError']"
      ]
     },
     "execution_count": 119,
     "metadata": {},
     "output_type": "execute_result"
    }
   ],
   "source": [
    "dir(__builtins__)[0:10]"
   ]
  },
  {
   "cell_type": "markdown",
   "id": "fb70a857",
   "metadata": {},
   "source": [
    "We can access elements of the namespace as follows"
   ]
  },
  {
   "cell_type": "code",
   "execution_count": 126,
   "id": "8709f17f",
   "metadata": {},
   "outputs": [
    {
     "data": {
      "text/plain": [
       "<function max>"
      ]
     },
     "execution_count": 126,
     "metadata": {},
     "output_type": "execute_result"
    }
   ],
   "source": [
    "__builtins__.max"
   ]
  },
  {
   "cell_type": "markdown",
   "id": "5feab883",
   "metadata": {},
   "source": [
    "But `__builtins__` is special, because we can always access them directly as well."
   ]
  },
  {
   "cell_type": "code",
   "execution_count": 129,
   "id": "34752bc1",
   "metadata": {},
   "outputs": [
    {
     "data": {
      "text/plain": [
       "<function max>"
      ]
     },
     "execution_count": 129,
     "metadata": {},
     "output_type": "execute_result"
    }
   ],
   "source": [
    "max"
   ]
  },
  {
   "cell_type": "code",
   "execution_count": 131,
   "id": "1443c9c9",
   "metadata": {},
   "outputs": [
    {
     "data": {
      "text/plain": [
       "True"
      ]
     },
     "execution_count": 131,
     "metadata": {},
     "output_type": "execute_result"
    }
   ],
   "source": [
    "__builtins__.max == max"
   ]
  },
  {
   "cell_type": "markdown",
   "id": "ef21fc73",
   "metadata": {},
   "source": [
    "### Name Resolution\n",
    "Namespaces are great because they help us organize variable names.\n",
    "\n",
    "But we have to understand how the Python interpreter works with multiple namespaces.\n",
    "\n",
    "Understanding the flow of execution will help us to check which variables are in scope and how to operate on them when writing and debugging programs.\n",
    "\n",
    "At any point of execution, there are in fact at least two namespacs that can be accessed directly.\n",
    "(Here, \"Accessed directly\" means without using a dot, as in `pi` rather than `math.pi`)\n",
    "\n",
    "These namespaces are:\n",
    "\n",
    " - the global namespace (of the module being executed)\n",
    " - the builtin namespace\n",
    " \n",
    "If the interpreter is executing a function, then the directly accessible namespaces are:\n",
    "\n",
    " - the local namespace of the function\n",
    " - the global namespace (of the module being executed)\n",
    " - the builtin namespace\n",
    " \n",
    "Sometimes functions are defined within other functions, like : g is enclosed in f"
   ]
  },
  {
   "cell_type": "code",
   "execution_count": 137,
   "id": "a9cdc57e",
   "metadata": {},
   "outputs": [],
   "source": [
    "def f():\n",
    "    a = 2\n",
    "    def g():\n",
    "        b = 4\n",
    "        print(a*b)\n",
    "    g()"
   ]
  },
  {
   "cell_type": "markdown",
   "id": "bbded791",
   "metadata": {},
   "source": [
    "Here `f` is the _enclosing function_ for `g`, and each function gets its own namespaces.\n",
    "\n",
    "Now we can give the rule for how namespace resolution works.\n",
    "\n",
    "The order in which the interpreter searches for names is:\n",
    "\n",
    " 1. the local namespace (if it exists)\n",
    " 2. the hierarchy of enclosing namespaces (if they exist)\n",
    " 3. the global namespace\n",
    " 4. the builtin namespace\n",
    " \n",
    "If the name is not in any of these namespaces, the interpreter raises a `NameError`.\n",
    "\n",
    "This is called the __LEGB rule__ for local, enclosing, global, builtin.\n",
    "\n",
    "Let's look at an example to illustrate this."
   ]
  },
  {
   "cell_type": "code",
   "execution_count": 140,
   "id": "64eaa909",
   "metadata": {},
   "outputs": [
    {
     "name": "stdout",
     "output_type": "stream",
     "text": [
      "Writing test.py\n"
     ]
    }
   ],
   "source": [
    "%%file test.py\n",
    "def g(x):\n",
    "    a = 1\n",
    "    x = x + a\n",
    "    return x\n",
    "\n",
    "a = 0\n",
    "y = g(10)\n",
    "print(\"a = \", a, \"y = \", y)"
   ]
  },
  {
   "cell_type": "code",
   "execution_count": 142,
   "id": "b50cf79e",
   "metadata": {},
   "outputs": [
    {
     "name": "stdout",
     "output_type": "stream",
     "text": [
      "a =  0 y =  11\n"
     ]
    }
   ],
   "source": [
    "%run test.py"
   ]
  },
  {
   "attachments": {},
   "cell_type": "markdown",
   "id": "72772c01",
   "metadata": {},
   "source": [
    "What is happening?\n",
    "\n",
    "First\n",
    " - the global namespace `{}` is created\n",
    " - the function object is created, and `g` is bound to it within the global namespace\n",
    " - the name `a` is bound to `0`, again in the global namespace"
   ]
  },
  {
   "attachments": {},
   "cell_type": "markdown",
   "id": "4bf767de",
   "metadata": {},
   "source": [
    "\n",
    "Next, `g` is called via `y = g(10)`, leading to the following sequence of actions:\n",
    " - the local namespace for the function is created\n",
    " - local names `x` and `a` are bound, so that the local namespace becomes `{'x': 10, 'a': 1}`\n",
    "     - note that the global `a` was not affected by the local `a`"
   ]
  },
  {
   "attachments": {},
   "cell_type": "markdown",
   "id": "bcb261aa",
   "metadata": {},
   "source": [
    "\n",
    " - statement `x = x + a` uses the local `a` and local `x` to compute `x+a`, and binds local name `x` to the result\n",
    " - this value is returned, and `y` is bound to it in the global namespace\n",
    " - local `x` and `a` are discarded (and the local namespace is deallocated)"
   ]
  },
  {
   "cell_type": "markdown",
   "id": "64a35f9c",
   "metadata": {},
   "source": [
    "### Mutable vs. Immutable Parameters\n",
    "Consider the code segment"
   ]
  },
  {
   "cell_type": "code",
   "execution_count": 146,
   "id": "06eca587",
   "metadata": {},
   "outputs": [
    {
     "name": "stdout",
     "output_type": "stream",
     "text": [
      "2 1\n"
     ]
    }
   ],
   "source": [
    "def f(x):\n",
    "    x = x + 1\n",
    "    return x\n",
    "\n",
    "x = 1\n",
    "print(f(x), x)"
   ]
  },
  {
   "cell_type": "markdown",
   "id": "b1d75aa0",
   "metadata": {},
   "source": [
    "We now understand what will happen here: the code prints `2` as the value of `f(x)` and `1` as the value of `x`.\n",
    "\n",
    "First `f` and `x` are registered in the global namespace.\n",
    "\n",
    "The call `f(x)` creates a local namespace and adds `x` to it, bound to `1`.\n",
    "\n",
    "Next, this local `x` is rebound to the new integer object `2`, and this value is returned.\n",
    "\n",
    "None of this affects the global `x`.\n",
    "\n",
    "However, it is a different story when we use a mutable data type such as a list."
   ]
  },
  {
   "cell_type": "code",
   "execution_count": 149,
   "id": "0ab33809",
   "metadata": {},
   "outputs": [
    {
     "name": "stdout",
     "output_type": "stream",
     "text": [
      "[2] [2]\n"
     ]
    }
   ],
   "source": [
    "def f(x):\n",
    "    x[0] = x[0] + 1\n",
    "    return x\n",
    "\n",
    "x = [1]\n",
    "print(f(x), x)"
   ]
  },
  {
   "cell_type": "markdown",
   "id": "edd90218",
   "metadata": {},
   "source": [
    "This prints `[2]` as the value of `f(x)` and also for `x`.\n",
    "\n",
    "Here is what is happening:\n",
    "\n",
    " - `f` is registered as a function in the global namespace\n",
    " - `x` is bound to `[1]` in the global namespace\n",
    " - the call `f(x)`\n",
    "  \n",
    "      - creates a local namespace\n",
    "      - adds `x` to the local namespace, bound to `[1]`\n"
   ]
  },
  {
   "cell_type": "markdown",
   "id": "fd3c8ccf",
   "metadata": {},
   "source": [
    "\n",
    "## Summary\n",
    "\n",
    " - in Python, everything in memory is treated as an object\n",
    " - zero, one or many names can be bound to a given object\n",
    " - every name resides within a scope defined by its namespace\n",
    " \n",
    "This includes not just lists, strings, etc., but also\n",
    "\n",
    " - functions\n",
    " - modules\n",
    " - files opened for reading or writing\n",
    " - integers, etc.\n",
    " \n",
    "When Python reads a function definition, it creates a __function object__ and stores it in memory.\n",
    "\n",
    "The following code illustrates this idea further."
   ]
  },
  {
   "cell_type": "code",
   "execution_count": 152,
   "id": "5b4d3065",
   "metadata": {},
   "outputs": [
    {
     "data": {
      "text/plain": [
       "<function __main__.f(x)>"
      ]
     },
     "execution_count": 152,
     "metadata": {},
     "output_type": "execute_result"
    }
   ],
   "source": [
    "def f(x): return x**2\n",
    "f"
   ]
  },
  {
   "cell_type": "code",
   "execution_count": 154,
   "id": "65b4dd95",
   "metadata": {},
   "outputs": [
    {
     "data": {
      "text/plain": [
       "function"
      ]
     },
     "execution_count": 154,
     "metadata": {},
     "output_type": "execute_result"
    }
   ],
   "source": [
    "type(f)"
   ]
  },
  {
   "cell_type": "code",
   "execution_count": 156,
   "id": "508863e9",
   "metadata": {},
   "outputs": [
    {
     "data": {
      "text/plain": [
       "1754481289600"
      ]
     },
     "execution_count": 156,
     "metadata": {},
     "output_type": "execute_result"
    }
   ],
   "source": [
    "id(f)"
   ]
  },
  {
   "cell_type": "code",
   "execution_count": 158,
   "id": "373490d9",
   "metadata": {},
   "outputs": [
    {
     "data": {
      "text/plain": [
       "'f'"
      ]
     },
     "execution_count": 158,
     "metadata": {},
     "output_type": "execute_result"
    }
   ],
   "source": [
    "f.__name__"
   ]
  },
  {
   "cell_type": "markdown",
   "id": "a577564b",
   "metadata": {},
   "source": [
    "We see that `f` has type, identity, attributes and so on - just like any other object.\n",
    "\n",
    "It also has methods.\n",
    "\n",
    "One example is the `__call__` method, which just evaluates the function."
   ]
  },
  {
   "cell_type": "code",
   "execution_count": 161,
   "id": "276311c4",
   "metadata": {},
   "outputs": [
    {
     "data": {
      "text/plain": [
       "9"
      ]
     },
     "execution_count": 161,
     "metadata": {},
     "output_type": "execute_result"
    }
   ],
   "source": [
    "f.__call__(3)"
   ]
  },
  {
   "cell_type": "markdown",
   "id": "e370b287",
   "metadata": {},
   "source": [
    "This uniform treatment of data in Python (everything is an object) helps keep the language simple and consistent."
   ]
  }
 ],
 "metadata": {
  "kernelspec": {
   "display_name": "Python [conda env:base] *",
   "language": "python",
   "name": "conda-base-py"
  },
  "language_info": {
   "codemirror_mode": {
    "name": "ipython",
    "version": 3
   },
   "file_extension": ".py",
   "mimetype": "text/x-python",
   "name": "python",
   "nbconvert_exporter": "python",
   "pygments_lexer": "ipython3",
   "version": "3.12.7"
  }
 },
 "nbformat": 4,
 "nbformat_minor": 5
}
