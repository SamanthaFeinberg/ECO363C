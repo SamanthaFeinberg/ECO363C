{
 "cells": [
  {
   "cell_type": "markdown",
   "id": "57f7b8ac",
   "metadata": {},
   "source": [
    "# Present Values\n",
    "\n",
    "We now move from data analysis to theoretical (mathematical) models and we will see how we can use Python to help us solve these models."
   ]
  },
  {
   "cell_type": "markdown",
   "id": "0ff6af44",
   "metadata": {},
   "source": [
    "## Overview\n",
    "\n",
    "This lecture describes the  **present value model** that is a starting point\n",
    "of much of asset pricing theory.\n",
    "\n",
    "Asset pricing theory is a component of theories about many economic decisions including\n",
    "\n",
    "- consumption  \n",
    "- labor supply  \n",
    "- education choice  \n",
    "- demand for money  \n",
    "\n",
    "\n",
    "In asset pricing theory, and in economic dynamics more generally, a basic topic is the relationship\n",
    "among different __time series__.\n",
    "\n",
    "A **time series** is a **sequence** indexed by time.\n",
    "\n",
    "In this lecture, we’ll represent  a sequence as a vector.\n",
    "\n",
    "So our analysis will typically boil down to studying relationships among vectors.\n",
    "\n",
    "Our main  tools in this lecture will be\n",
    "\n",
    "- matrix multiplication,  and  \n",
    "- matrix inversion.  \n",
    "\n",
    "\n",
    "We’ll use the calculations described here in  subsequent lectures as well.\n"
   ]
  },
  {
   "cell_type": "markdown",
   "id": "a3bb491a-e088-4490-829d-1ad154fc3fa7",
   "metadata": {},
   "source": [
    "## Recap of matrix multiplication (do in class):\n",
    "\n",
    "Assume you have the following matrices and vectors:\n",
    "\n",
    "$$A = \\begin{pmatrix} 1 & 2 & 3 \\cr 4 & 5 & 6\\end{pmatrix}$$   size 2x3, to mult must be by 3x..., result is 2x...\n",
    "\n",
    "$$B = \\begin{pmatrix} 0 & 3 & 1 \\cr 2 & 3 & 4\\end{pmatrix}$$\n",
    "\n",
    "$$a = \\begin{pmatrix} 1 \\cr 2 \\cr 3 \\end{pmatrix}$$\n",
    "\n",
    "$$b = \\begin{pmatrix}  4 \\cr 5 \\cr 6\\end{pmatrix}$$\n",
    "\n",
    "Compute $Aa$, $AB'$, and $b'a$.\n",
    "\n",
    "$B'$ is 3x2 \n",
    "\n",
    "            (0 2\n",
    "\n",
    "            3  3\n",
    "            \n",
    "            4  4)\n",
    "\n",
    "$b'$ is (456)\n",
    "\n",
    "$Aa$ = 2x1\n",
    "\n",
    "(14\n",
    "\n",
    "  32 )\n",
    "\n",
    "\n",
    "\n",
    "$AB'$ = 2x2 \n",
    "\n",
    "(9  20\n",
    "\n",
    "21 47 )\n",
    "\n",
    "$b'A$ = 1x1\n",
    "\n",
    "(32)"
   ]
  },
  {
   "cell_type": "code",
   "execution_count": 26,
   "id": "171a41ee-279d-4fb4-b3d5-fe1c0bac4c9e",
   "metadata": {},
   "outputs": [
    {
     "data": {
      "text/plain": [
       "array([[14],\n",
       "       [32]])"
      ]
     },
     "execution_count": 26,
     "metadata": {},
     "output_type": "execute_result"
    }
   ],
   "source": [
    "#in python (solutions canvas)\n",
    "import numpy as np\n",
    "A=np.array([[1,2,3],[4,5,6]])\n",
    "B=np.array([[0,3,1],[2,3,4]])\n",
    "a=np.array([[1],[2],[3]])  #for column vector need to bracket every value \n",
    "b=np.array([[4],[5],[6]])\n",
    "\n",
    "A@a"
   ]
  },
  {
   "cell_type": "code",
   "execution_count": 21,
   "id": "e814db70-3aca-4a39-98ce-61b5add2e25d",
   "metadata": {},
   "outputs": [
    {
     "data": {
      "text/plain": [
       "array([[ 9, 20],\n",
       "       [21, 47]])"
      ]
     },
     "execution_count": 21,
     "metadata": {},
     "output_type": "execute_result"
    }
   ],
   "source": [
    "A@B.T #traversal of B"
   ]
  },
  {
   "cell_type": "code",
   "execution_count": 28,
   "id": "60dc04d5-1825-4500-8efc-93913cd47e6c",
   "metadata": {},
   "outputs": [
    {
     "data": {
      "text/plain": [
       "array([[32]])"
      ]
     },
     "execution_count": 28,
     "metadata": {},
     "output_type": "execute_result"
    }
   ],
   "source": [
    "b.T@a"
   ]
  },
  {
   "cell_type": "markdown",
   "id": "46b93907",
   "metadata": {},
   "source": [
    "## Analysis\n",
    "\n",
    "We want to determine the price of an asset. \n",
    "\n",
    "Let\n",
    "\n",
    "- $ \\{d_t\\}_{t=0}^T $ be a sequence of dividends or “payouts”  \n",
    "- $ \\{p_t\\}_{t=0}^T $ be a sequence of prices of a claim on the continuation of\n",
    "  the asset’s payout  stream from date $ t $ on, namely, $ \\{d_s\\}_{s=t}^T $  \n",
    "- $ \\delta  \\in (0,1) $ be a one-period “discount factor”  \n",
    "- $ p_{T+1}^* $ be a terminal price of the asset at time $ T+1 $  \n",
    "\n",
    "\n",
    "We  assume that the dividend stream $ \\{d_t\\}_{t=0}^T $ and the terminal price\n",
    "$ p_{T+1}^* $ are both exogenous.\n",
    "\n",
    "This means that they are determined outside the model.\n",
    "\n",
    "Assume the sequence of asset pricing equations\n",
    "\n",
    "\n",
    "<a id='equation-eq-euler1'></a>\n",
    "$$\n",
    "p_t = d_t + \\delta p_{t+1}, \\quad t = 0, 1, \\ldots , T \\tag{1}\n",
    "$$\n",
    "\n",
    "We say equation**s**, plural, because there are $ T+1 $ equations, one for each $ t =0, 1, \\ldots, T $.\n",
    "\n",
    "Equations [(1)](#equation-eq-euler1) assert that the price paid to purchase  the asset at time $ t $  equals the payout $ d_t $  plus the price at time  $ t+1 $ multiplied by a time discount factor $ \\delta $.\n",
    "\n",
    "Discounting tomorrow’s price  by multiplying it by  $ \\delta $ accounts for the “value of waiting one period”.\n",
    "\n",
    "We want to solve the system of $ T+1 $ equations [(1)](#equation-eq-euler1) for the asset price sequence  $ \\{p_t\\}_{t=0}^T $ as a function of the dividend sequence $ \\{d_t\\}_{t=0}^T $ and the exogenous terminal\n",
    "price  $ p_{T+1}^* $.\n",
    "\n",
    "A system of equations like [(1)](#equation-eq-euler1) is an example of a linear  **difference equation**.\n",
    "\n",
    "There are powerful mathematical  methods available for solving such systems and they are well worth\n",
    "studying in their own right, being the foundation for the analysis of many interesting economic models.\n",
    "\n",
    "In this lecture, we’ll  solve system [(1)](#equation-eq-euler1) using matrix multiplication and matrix inversion.\n",
    "\n",
    "We will use the following imports"
   ]
  },
  {
   "cell_type": "code",
   "execution_count": 31,
   "id": "dbcbbd32",
   "metadata": {
    "hide-output": false
   },
   "outputs": [],
   "source": [
    "import numpy as np\n",
    "import matplotlib.pyplot as plt"
   ]
  },
  {
   "cell_type": "markdown",
   "id": "f34bdf09",
   "metadata": {},
   "source": [
    "## Representing sequences as vectors\n",
    "\n",
    "The equations in system [(1)](#equation-eq-euler1) can be arranged as follows:\n",
    "\n",
    "\n",
    "<a id='equation-eq-euler-stack'></a>\n",
    "$$\n",
    "\\begin{aligned}\n",
    "    p_0 & = d_0 + \\delta p_1 \\\\\n",
    "    p_1 & = d_1 + \\delta p_2 \\\\\n",
    "    \\vdots \\\\\n",
    "    p_{T-1} & = d_{T-1} + \\delta p_T \\\\\n",
    "    p_T & = d_T + \\delta p^*_{T+1}\n",
    "\\end{aligned} \\tag{2}\n",
    "$$\n",
    "\n",
    "Write the system [(2)](#equation-eq-euler-stack) of $ T+1 $ asset pricing  equations as the single matrix equation\n",
    "\n",
    "\n",
    "<a id='equation-eq-pvpieq'></a>\n",
    "$$\n",
    "\\begin{bmatrix} 1 & -\\delta & 0 & 0 & \\cdots & 0 & 0 \\cr\n",
    "                    0 & 1 & -\\delta & 0 & \\cdots & 0 & 0 \\cr\n",
    "                    0 & 0 & 1 & -\\delta & \\cdots & 0 & 0 \\cr\n",
    "                    \\vdots & \\vdots & \\vdots & \\vdots & \\vdots & 0 & 0 \\cr\n",
    "                    0 & 0 & 0 & 0 & \\cdots & 1 & -\\delta \\cr\n",
    "                    0 & 0 & 0 & 0 & \\cdots & 0 & 1 \\end{bmatrix}\n",
    "    \\begin{bmatrix} p_0 \\cr p_1 \\cr p_2 \\cr \\vdots \\cr p_{T-1} \\cr p_T \n",
    "    \\end{bmatrix} \n",
    "    =  \\begin{bmatrix}  \n",
    "    d_0 \\cr d_1 \\cr d_2 \\cr \\vdots \\cr d_{T-1} \\cr d_T\n",
    "    \\end{bmatrix}\n",
    "    + \\begin{bmatrix} \n",
    "    0 \\cr 0 \\cr 0 \\cr \\vdots \\cr 0 \\cr \\delta p_{T+1}^*\n",
    "    \\end{bmatrix} \\tag{3}\n",
    "$$"
   ]
  },
  {
   "cell_type": "markdown",
   "id": "39f3a9f3-d944-4633-8459-30ebac4a1ffa",
   "metadata": {},
   "source": [
    "### Exercise to do in class\n",
    "\n",
    "Carry out the matrix multiplication in [(3)](#equation-eq-pvpieq) by hand and confirm that you\n",
    "recover the equations in [(2)](#equation-eq-euler-stack).\n"
   ]
  },
  {
   "cell_type": "markdown",
   "id": "6608defe-055a-4ade-9325-121b3c6dabc6",
   "metadata": {},
   "source": [
    "$P_0 -$$\\delta$$P_t=d_0$\n",
    "\n",
    "$P_0=d_0+$$\\delta$$P_t$\n",
    "\n",
    "$P_T=d_T+$$\\delta$$p^*_T+1$"
   ]
  },
  {
   "cell_type": "markdown",
   "id": "dc67e341",
   "metadata": {},
   "source": [
    "In vector-matrix notation, we can write  system [(3)](#equation-eq-pvpieq) as\n",
    "\n",
    "\n",
    "<a id='equation-eq-apdb'></a>\n",
    "$$\n",
    "A p = d + b \\tag{4}\n",
    "$$\n",
    "\n",
    "Here $ A $ is the matrix on the left side of equation [(3)](#equation-eq-pvpieq), while\n",
    "\n",
    "$$\n",
    "p = \n",
    "    \\begin{bmatrix}\n",
    "        p_0 \\\\\n",
    "        p_1 \\\\\n",
    "        \\vdots \\\\\n",
    "        p_T\n",
    "    \\end{bmatrix},\n",
    "    \\quad\n",
    "    d = \n",
    "    \\begin{bmatrix}\n",
    "        d_0 \\\\\n",
    "        d_1 \\\\\n",
    "        \\vdots \\\\\n",
    "        d_T\n",
    "    \\end{bmatrix},\n",
    "    \\quad \\text{and} \\quad\n",
    "    b = \n",
    "    \\begin{bmatrix}\n",
    "        0 \\\\\n",
    "        0 \\\\\n",
    "        \\vdots \\\\\n",
    "        \\delta p^*_{T+1}\n",
    "    \\end{bmatrix}\n",
    "$$\n",
    "\n",
    "The solution for the vector of  prices is\n",
    "\n",
    "\n",
    "<a id='equation-eq-apdb-sol'></a>\n",
    "$$\n",
    "p = A^{-1}(d + b) \\tag{5}\n",
    "$$\n",
    "\n",
    "For example, suppose that  the dividend stream is\n",
    "\n",
    "$$\n",
    "d_{t+1} = 1.05 d_t, \\quad t = 0, 1, \\ldots , T-1.\n",
    "$$\n",
    "\n",
    "Let’s write Python code to compute and plot the dividend stream."
   ]
  },
  {
   "cell_type": "code",
   "execution_count": 58,
   "id": "ddb9b137",
   "metadata": {
    "hide-output": false
   },
   "outputs": [
    {
     "data": {
      "image/png": "[encoded data removed]",
      "text/plain": [
       "<Figure size 640x480 with 1 Axes>"
      ]
     },
     "metadata": {},
     "output_type": "display_data"
    }
   ],
   "source": [
    "T = 6\n",
    "current_d = 1.0\n",
    "d = []\n",
    "for t in range(T+1): #for loop and append current_d to d list and update current div by multiply\n",
    "    d.append(current_d)\n",
    "    current_d = current_d * 1.05 \n",
    "\n",
    "fig, ax = plt.subplots()\n",
    "ax.plot(d, 'o', label='dividends')\n",
    "ax.legend()\n",
    "ax.set_xlabel('time')\n",
    "plt.show() #dividends inc over time bc multiplying ,,, growing exponentially for 6 periods "
   ]
  },
  {
   "cell_type": "markdown",
   "id": "044912c2",
   "metadata": {},
   "source": [
    "Now let’s compute and plot the asset price.\n",
    "\n",
    "We set $ \\delta $ and $ p_{T+1}^* $ to"
   ]
  },
  {
   "cell_type": "code",
   "execution_count": 72,
   "id": "28857bb8",
   "metadata": {
    "hide-output": false
   },
   "outputs": [],
   "source": [
    "δ = 0.99\n",
    "p_star = 10.0 #at end someone pays you $10"
   ]
  },
  {
   "cell_type": "markdown",
   "id": "ca74488d",
   "metadata": {},
   "source": [
    "Let’s build the matrix $ A $"
   ]
  },
  {
   "cell_type": "code",
   "execution_count": 75,
   "id": "af1b29b4",
   "metadata": {
    "hide-output": false
   },
   "outputs": [],
   "source": [
    "A = np.zeros((T+1, T+1)) #start with an empty array \n",
    "for i in range(T+1): #loop through rows\n",
    "    for j in range(T+1): #loop through columns \n",
    "        if i == j:\n",
    "            A[i, j] = 1 #fill diagonal with 1 \n",
    "            if j < T:\n",
    "                A[i, j+1] = -δ #minus delta right next to the diagonal to the right (j+1) \n",
    "#rest stays 0s"
   ]
  },
  {
   "cell_type": "markdown",
   "id": "60fcd46d",
   "metadata": {},
   "source": [
    "Let’s inspect $ A $"
   ]
  },
  {
   "cell_type": "code",
   "execution_count": 78,
   "id": "3b5980db",
   "metadata": {
    "hide-output": false
   },
   "outputs": [
    {
     "data": {
      "text/plain": [
       "array([[ 1.  , -0.99,  0.  ,  0.  ,  0.  ,  0.  ,  0.  ],\n",
       "       [ 0.  ,  1.  , -0.99,  0.  ,  0.  ,  0.  ,  0.  ],\n",
       "       [ 0.  ,  0.  ,  1.  , -0.99,  0.  ,  0.  ,  0.  ],\n",
       "       [ 0.  ,  0.  ,  0.  ,  1.  , -0.99,  0.  ,  0.  ],\n",
       "       [ 0.  ,  0.  ,  0.  ,  0.  ,  1.  , -0.99,  0.  ],\n",
       "       [ 0.  ,  0.  ,  0.  ,  0.  ,  0.  ,  1.  , -0.99],\n",
       "       [ 0.  ,  0.  ,  0.  ,  0.  ,  0.  ,  0.  ,  1.  ]])"
      ]
     },
     "execution_count": 78,
     "metadata": {},
     "output_type": "execute_result"
    }
   ],
   "source": [
    "A"
   ]
  },
  {
   "cell_type": "markdown",
   "id": "1912e1a5",
   "metadata": {},
   "source": [
    "Now let’s solve for prices using [(5)](#equation-eq-apdb-sol)."
   ]
  },
  {
   "cell_type": "code",
   "execution_count": 86,
   "id": "933e8afb",
   "metadata": {
    "hide-output": false
   },
   "outputs": [
    {
     "data": {
      "image/png": "[encoded data removed]",
      "text/plain": [
       "<Figure size 640x480 with 1 Axes>"
      ]
     },
     "metadata": {},
     "output_type": "display_data"
    }
   ],
   "source": [
    "b = np.zeros(T+1)\n",
    "b[-1] = δ * p_star #last entry is nonzero- this equation \n",
    "p = np.linalg.solve(A, d + b) # Another way to solve this equation would be: p = np.linalg.inv(A)@(d+b) , get inverse of matrix A \n",
    "#the solve method is much faster than using .inv \n",
    "fig, ax = plt.subplots()\n",
    "ax.plot(p, 'o', label='asset price')\n",
    "ax.legend()\n",
    "ax.set_xlabel('time')\n",
    "plt.show()\n",
    "#in last period get divident+deltaxp*,, price higher than 9.9 \n",
    "#changing price or dividend process changes the shape of the plot below "
   ]
  },
  {
   "cell_type": "code",
   "execution_count": 90,
   "id": "8078d3ed-dd7c-4eb7-a4da-67033b63f179",
   "metadata": {},
   "outputs": [
    {
     "data": {
      "text/plain": [
       "array([ 3.55271368e-15,  0.00000000e+00,  1.77635684e-15,  0.00000000e+00,\n",
       "        0.00000000e+00, -1.77635684e-15,  0.00000000e+00])"
      ]
     },
     "execution_count": 90,
     "metadata": {},
     "output_type": "execute_result"
    }
   ],
   "source": [
    "p2 = np.linalg.inv(A)@(d+b)\n",
    "p - p2 \n",
    "#almost zero differences btwn the .inv and solve methods"
   ]
  },
  {
   "cell_type": "markdown",
   "id": "9ad204e7",
   "metadata": {},
   "source": [
    "Now let’s consider  a cyclically growing dividend sequence:\n",
    "\n",
    "$$\n",
    "d_{t+1} = 1.01 d_t + 0.1 \\sin t, \\quad t = 0, 1, \\ldots , T-1.\n",
    "$$"
   ]
  },
  {
   "cell_type": "code",
   "execution_count": 95,
   "id": "0c7d4ce1",
   "metadata": {
    "hide-output": false
   },
   "outputs": [
    {
     "data": {
      "image/png": "[encoded data removed]",
      "text/plain": [
       "<Figure size 640x480 with 1 Axes>"
      ]
     },
     "metadata": {},
     "output_type": "display_data"
    }
   ],
   "source": [
    "T = 100\n",
    "current_d = 1.0\n",
    "d = []\n",
    "for t in range(T+1):\n",
    "    d.append(current_d)\n",
    "    current_d = current_d * 1.01 + 0.1 * np.sin(t)\n",
    "\n",
    "fig, ax = plt.subplots()\n",
    "ax.plot(d, 'o-', ms=4, alpha=0.8, label='dividends')\n",
    "ax.legend()\n",
    "ax.set_xlabel('time')\n",
    "plt.show()\n",
    "#still exponentially inc but with fluctuations "
   ]
  },
  {
   "cell_type": "markdown",
   "id": "497eb185",
   "metadata": {},
   "source": [
    "### Exercise to do in class\n",
    "\n",
    "Compute the corresponding asset price sequence when $ p^*_{T+1} = 0 $ and $ \\delta\n",
    "= 0.98 $."
   ]
  },
  {
   "cell_type": "code",
   "execution_count": 137,
   "id": "b663aebc-289f-46a0-a0b7-937d59b74e6d",
   "metadata": {},
   "outputs": [
    {
     "data": {
      "text/plain": [
       "array([[ 1.  , -0.98,  0.  , ...,  0.  ,  0.  ,  0.  ],\n",
       "       [ 0.  ,  1.  , -0.98, ...,  0.  ,  0.  ,  0.  ],\n",
       "       [ 0.  ,  0.  ,  1.  , ...,  0.  ,  0.  ,  0.  ],\n",
       "       ...,\n",
       "       [ 0.  ,  0.  ,  0.  , ...,  1.  , -0.98,  0.  ],\n",
       "       [ 0.  ,  0.  ,  0.  , ...,  0.  ,  1.  , -0.98],\n",
       "       [ 0.  ,  0.  ,  0.  , ...,  0.  ,  0.  ,  1.  ]])"
      ]
     },
     "execution_count": 137,
     "metadata": {},
     "output_type": "execute_result"
    }
   ],
   "source": [
    "#change inputs\n",
    "δ=.98\n",
    "p_star=0 \n",
    "T=100\n",
    "\n",
    "#amatrix \n",
    "A = np.zeros((T+1, T+1)) #start with an empty array \n",
    "for i in range(T+1): #loop through rows\n",
    "    for j in range(T+1): #loop through columns \n",
    "        if i == j:\n",
    "            A[i, j] = 1 #fill diagonal with 1 \n",
    "            if j < T:\n",
    "                A[i, j+1] = -δ\n",
    "A"
   ]
  },
  {
   "cell_type": "code",
   "execution_count": 139,
   "id": "ae47734d-7bc9-4477-8bbd-af5ffce44525",
   "metadata": {},
   "outputs": [
    {
     "data": {
      "image/png": "[encoded data removed]",
      "text/plain": [
       "<Figure size 640x480 with 1 Axes>"
      ]
     },
     "metadata": {},
     "output_type": "display_data"
    }
   ],
   "source": [
    "#pricing \n",
    "b = np.zeros(T+1)\n",
    "b[-1] = δ * p_star #last entry is nonzero- this equation \n",
    "p = np.linalg.solve(A, d + b) # Another way to solve this equation would be: p = np.linalg.inv(A)@(d+b) , get inverse of matrix A \n",
    "#the solve method is much faster than using .inv \n",
    "fig, ax = plt.subplots()\n",
    "ax.plot(p, 'o', label='asset price')\n",
    "ax.legend()\n",
    "ax.set_xlabel('time')\n",
    "plt.show()"
   ]
  },
  {
   "cell_type": "markdown",
   "id": "59003a2d-e2af-46d5-b4dc-88603ca0bead",
   "metadata": {},
   "source": [
    "final price is 0, at first discount small, as get closer to fnial price it dominates and discounts heavily to reach 0 in last period "
   ]
  },
  {
   "cell_type": "code",
   "execution_count": 142,
   "id": "a234dd33-ae70-4fe2-bded-0a0c74a47245",
   "metadata": {},
   "outputs": [
    {
     "data": {
      "image/png": "[encoded data removed]",
      "text/plain": [
       "<Figure size 640x480 with 1 Axes>"
      ]
     },
     "metadata": {},
     "output_type": "display_data"
    }
   ],
   "source": [
    "#div process\n",
    "T = 100\n",
    "current_d = 1.0\n",
    "d = []\n",
    "for t in range(T+1):\n",
    "    d.append(current_d)\n",
    "    current_d = current_d * 1.01 + 0.1 * np.sin(t)\n",
    "fig, ax = plt.subplots()\n",
    "ax.plot(d, 'o-', ms=4, alpha=0.8, label='dividends')\n",
    "ax.legend()\n",
    "ax.set_xlabel('time')\n",
    "plt.show()"
   ]
  },
  {
   "cell_type": "markdown",
   "id": "bf2af774",
   "metadata": {},
   "source": [
    "## Analytical expressions\n",
    "\n",
    "By the [inverse matrix theorem](https://en.wikipedia.org/wiki/Invertible_matrix), a matrix $ B $ is the inverse of $ A $ whenever $ A B $ is the identity.\n",
    "\n",
    "It can be verified that the  inverse of the matrix $ A $ in [(3)](#equation-eq-pvpieq) is\n",
    "\n",
    "\n",
    "<a id='equation-eq-ainv'></a>\n",
    "$$\n",
    "A^{-1} = \n",
    "    \\begin{bmatrix}\n",
    "        1 & \\delta & \\delta^2 & \\cdots & \\delta^{T-1} & \\delta^T \\cr\n",
    "        0 & 1 & \\delta & \\cdots & \\delta^{T-2} & \\delta^{T-1} \\cr\n",
    "        \\vdots & \\vdots & \\vdots & \\cdots & \\vdots & \\vdots \\cr\n",
    "        0 & 0 & 0 & \\cdots & 1  & \\delta \\cr\n",
    "        0 & 0 & 0 & \\cdots & 0 & 1 \\cr\n",
    "    \\end{bmatrix} \\tag{6}\n",
    "$$\n",
    "\n",
    "The identity matrix is a square matrix that has 1s on the diagonal and 0s everywhere else. It's the matrix analogue of the number 1 (when you multiply any matrix or vector with its associated identity matrix, you get back the intial matrix or vector)."
   ]
  },
  {
   "cell_type": "code",
   "execution_count": 145,
   "id": "e1f261db-1c98-42af-8d4d-d88661dd3b23",
   "metadata": {},
   "outputs": [],
   "source": [
    "Ainv= np.linalg.inv(A) #for example "
   ]
  },
  {
   "cell_type": "markdown",
   "id": "26a8f094-7cbf-4792-bb7f-272895e1fa6f",
   "metadata": {},
   "source": [
    "### Exercise to do in class\n",
    "\n",
    "Check that $ A A^{-1} $ is equal to the identity matrix.\n"
   ]
  },
  {
   "cell_type": "code",
   "execution_count": 148,
   "id": "b1edfac9-52d4-441d-be07-19561de670c2",
   "metadata": {},
   "outputs": [
    {
     "data": {
      "text/plain": [
       "array([[ 1.  , -0.98,  0.  , ...,  0.  ,  0.  ,  0.  ],\n",
       "       [ 0.  ,  1.  , -0.98, ...,  0.  ,  0.  ,  0.  ],\n",
       "       [ 0.  ,  0.  ,  1.  , ...,  0.  ,  0.  ,  0.  ],\n",
       "       ...,\n",
       "       [ 0.  ,  0.  ,  0.  , ...,  1.  , -0.98,  0.  ],\n",
       "       [ 0.  ,  0.  ,  0.  , ...,  0.  ,  1.  , -0.98],\n",
       "       [ 0.  ,  0.  ,  0.  , ...,  0.  ,  0.  ,  1.  ]])"
      ]
     },
     "execution_count": 148,
     "metadata": {},
     "output_type": "execute_result"
    }
   ],
   "source": [
    "A"
   ]
  },
  {
   "cell_type": "code",
   "execution_count": 150,
   "id": "c6d1c49f-a1b9-4f06-8ee3-591cb306aad7",
   "metadata": {},
   "outputs": [
    {
     "data": {
      "text/plain": [
       "array([[1.        , 0.98      , 0.9604    , ..., 0.13808783, 0.13532608,\n",
       "        0.13261956],\n",
       "       [0.        , 1.        , 0.98      , ..., 0.14090595, 0.13808783,\n",
       "        0.13532608],\n",
       "       [0.        , 0.        , 1.        , ..., 0.14378158, 0.14090595,\n",
       "        0.13808783],\n",
       "       ...,\n",
       "       [0.        , 0.        , 0.        , ..., 1.        , 0.98      ,\n",
       "        0.9604    ],\n",
       "       [0.        , 0.        , 0.        , ..., 0.        , 1.        ,\n",
       "        0.98      ],\n",
       "       [0.        , 0.        , 0.        , ..., 0.        , 0.        ,\n",
       "        1.        ]])"
      ]
     },
     "execution_count": 150,
     "metadata": {},
     "output_type": "execute_result"
    }
   ],
   "source": [
    "Ainv"
   ]
  },
  {
   "cell_type": "code",
   "execution_count": 154,
   "id": "532612d4-2e41-485d-b93b-8ba8941f1650",
   "metadata": {},
   "outputs": [
    {
     "data": {
      "text/plain": [
       "array([[ 1.00000000e+00,  0.00000000e+00, -4.47641924e-17, ...,\n",
       "         4.72343859e-18,  1.30000514e-17, -7.58813319e-18],\n",
       "       [ 0.00000000e+00,  1.00000000e+00,  0.00000000e+00, ...,\n",
       "        -6.88282169e-18,  4.72343859e-18,  1.30000514e-17],\n",
       "       [ 0.00000000e+00,  0.00000000e+00,  1.00000000e+00, ...,\n",
       "         2.05108646e-18, -6.88282169e-18,  4.72343859e-18],\n",
       "       ...,\n",
       "       [ 0.00000000e+00,  0.00000000e+00,  0.00000000e+00, ...,\n",
       "         1.00000000e+00,  0.00000000e+00, -4.47641924e-17],\n",
       "       [ 0.00000000e+00,  0.00000000e+00,  0.00000000e+00, ...,\n",
       "         0.00000000e+00,  1.00000000e+00,  0.00000000e+00],\n",
       "       [ 0.00000000e+00,  0.00000000e+00,  0.00000000e+00, ...,\n",
       "         0.00000000e+00,  0.00000000e+00,  1.00000000e+00]])"
      ]
     },
     "execution_count": 154,
     "metadata": {},
     "output_type": "execute_result"
    }
   ],
   "source": [
    "A@Ainv #check solutions lol this is not correct "
   ]
  },
  {
   "cell_type": "markdown",
   "id": "d8d2bb7c-4398-4ace-86bc-327241c26dcf",
   "metadata": {},
   "source": [
    "identity matrix has 1 on diagonals, 0 everywhere else"
   ]
  },
  {
   "cell_type": "markdown",
   "id": "c9f74d45",
   "metadata": {},
   "source": [
    "If we use the expression [(6)](#equation-eq-ainv) in [(5)](#equation-eq-apdb-sol) and perform the indicated matrix multiplication, we shall find  that\n",
    "\n",
    "using Ainv(d+b)\n",
    "\n",
    "<a id='equation-eq-ptpveq'></a>\n",
    "$$\n",
    "p_t =  \\sum_{s=t}^T \\delta^{s-t} d_s +  \\delta^{T+1-t} p_{T+1}^* \\tag{7}\n",
    "$$\n",
    "\n",
    "(Another way to arrive at this expression is to iterate forward on the initial asset pricing equation.)\n",
    "\n",
    "Pricing formula [(7)](#equation-eq-ptpveq) asserts that  two components sum to the asset price\n",
    "$ p_t $:\n",
    "\n",
    "- a **fundamental component** $ \\sum_{s=t}^T \\delta^{s-t} d_s $ that equals the **discounted present value** of prospective dividends  \n",
    "- a **bubble component** $ \\delta^{T+1-t} p_{T+1}^* $  \n",
    "\n",
    "\n",
    "The fundamental component is pinned down by the discount factor $ \\delta $ and the\n",
    "payout of the asset (in this case,  dividends).\n",
    "\n",
    "The bubble component is the part of the price that is not pinned down by\n",
    "fundamentals.\n",
    "\n",
    "It is sometimes convenient to rewrite the bubble component as\n",
    "\n",
    "$$\n",
    "c \\delta^{-t}\n",
    "$$\n",
    "\n",
    "where\n",
    "\n",
    "$$\n",
    "c \\equiv \\delta^{T+1}p_{T+1}^*\n",
    "$$"
   ]
  },
  {
   "cell_type": "markdown",
   "id": "587a15ea-a164-4497-a436-77539e823210",
   "metadata": {},
   "source": [
    "iterating forward to find this solution:\n",
    "\n",
    "take P1 and plug in for the Pt in the P0 equation,,, like finding div using next price \n",
    "\n",
    "keep iterating forward until \n",
    "\n",
    "$d_0+$$\\delta$$d_1+$$\\delta$$^2(d_2+$$\\delta$$p_3)$+....\n",
    "\n",
    "=$sumation$$\\delta$$^sd_s + $$\\delta$$^(T+1)p^*_(T+1)$\n",
    "\n",
    "aka answer above "
   ]
  },
  {
   "cell_type": "markdown",
   "id": "d643fd0c",
   "metadata": {},
   "source": [
    "## More about bubbles\n",
    "\n",
    "For now, let’s focus on  the special case of an asset that   never pays dividends, in which case\n",
    "\n",
    "$$\n",
    "\\begin{bmatrix}  \n",
    "d_0 \\cr d_1 \\cr d_2 \\cr \\vdots \\cr d_{T-1} \\cr d_T\n",
    "\\end{bmatrix} = \n",
    "\\begin{bmatrix}  \n",
    "0 \\cr 0 \\cr 0 \\cr \\vdots \\cr 0 \\cr 0\n",
    "\\end{bmatrix}\n",
    "$$\n",
    "\n",
    "In this case  system [(1)](#equation-eq-euler1) of our $ T+1 $ asset pricing  equations takes the\n",
    "form of the single matrix equation\n",
    "\n",
    "\n",
    "<a id='equation-eq-pieq2'></a>\n",
    "$$\n",
    "\\begin{bmatrix} 1 & -\\delta & 0 & 0 & \\cdots & 0 & 0 \\cr\n",
    "                0 & 1 & -\\delta & 0 & \\cdots & 0 & 0 \\cr\n",
    "                0 & 0 & 1 & -\\delta & \\cdots & 0 & 0 \\cr\n",
    "                \\vdots & \\vdots & \\vdots & \\vdots & \\vdots & 0 & 0 \\cr\n",
    "                0 & 0 & 0 & 0 & \\cdots & 1 & -\\delta \\cr\n",
    "                0 & 0 & 0 & 0 & \\cdots & 0 & 1 \\end{bmatrix}\n",
    "\\begin{bmatrix} p_0 \\cr p_1 \\cr p_2 \\cr \\vdots \\cr p_{T-1} \\cr p_T \n",
    "\\end{bmatrix}  =\n",
    "\\begin{bmatrix} \n",
    "0 \\cr 0 \\cr 0 \\cr \\vdots \\cr 0 \\cr \\delta p_{T+1}^*\n",
    "\\end{bmatrix} \\tag{8}\n",
    "$$\n",
    "\n",
    "Evidently, if $ p_{T+1}^* = 0 $, a price vector $ p $ of all entries zero\n",
    "solves this equation and the only the **fundamental** component of our pricing\n",
    "formula [(7)](#equation-eq-ptpveq) is present.\n",
    "\n",
    "But let’s activate the **bubble**  component by setting\n",
    "\n",
    "\n",
    "<a id='equation-eq-eqbubbleterm'></a>\n",
    "$$\n",
    "p_{T+1}^* = c \\delta^{-(T+1)} \\tag{9}\n",
    "$$\n",
    "\n",
    "for some positive constant $ c $.\n",
    "\n",
    "In this case,  when we multiply both sides of [(8)](#equation-eq-pieq2) by\n",
    "the matrix $ A^{-1} $ presented in equation [(6)](#equation-eq-ainv), we\n",
    "find that\n",
    "\n",
    "\n",
    "<a id='equation-eq-bubble'></a>\n",
    "$$\n",
    "p_t = c \\delta^{-t} \\tag{10}\n",
    "$$\n",
    "\n",
    "so $$p_0 < p_1 $$ because$$ \\delta<1$$"
   ]
  },
  {
   "cell_type": "markdown",
   "id": "1e59cb65",
   "metadata": {},
   "source": [
    "## Gross rate of return\n",
    "\n",
    "Define the gross rate of return on holding the asset from period $ t $ to period $ t+1 $\n",
    "as\n",
    "\n",
    "\n",
    "<a id='equation-eq-rateofreturn'></a>\n",
    "$$\n",
    "R_t = \\frac{p_{t+1}}{p_t} \\tag{11}\n",
    "$$\n",
    "\n",
    "Substituting equation [(10)](#equation-eq-bubble) into equation [(11)](#equation-eq-rateofreturn) confirms that an asset whose  sole source of value is a bubble  earns a  gross rate of return\n",
    "\n",
    "$$\n",
    "R_t = \\delta^{-1} > 1 , t = 0, 1, \\ldots, T\n",
    "$$"
   ]
  }
 ],
 "metadata": {
  "date": 1710456264.766691,
  "filename": "pv.md",
  "kernelspec": {
   "display_name": "Python [conda env:base] *",
   "language": "python",
   "name": "conda-base-py"
  },
  "language_info": {
   "codemirror_mode": {
    "name": "ipython",
    "version": 3
   },
   "file_extension": ".py",
   "mimetype": "text/x-python",
   "name": "python",
   "nbconvert_exporter": "python",
   "pygments_lexer": "ipython3",
   "version": "3.12.7"
  },
  "title": "Present Values"
 },
 "nbformat": 4,
 "nbformat_minor": 5
}
