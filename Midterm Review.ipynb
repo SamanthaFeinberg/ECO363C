{
 "cells": [
  {
   "attachments": {},
   "cell_type": "markdown",
   "id": "90f875f6-dfcb-420e-9f43-12efa97868f5",
   "metadata": {},
   "source": [
    "**2/26/25:\n",
    "Practice Questions**\n",
    "\n",
    "True or False:\n",
    "\tPython is high level programming language \n",
    "\tPython supports OOP, and procedural paradigm \n",
    "\tPandas library inclusion - scipy is built on to of numpy \n",
    "\t\n",
    "Output of code:\n",
    "\tSymbols- like math in abstract- 2x+y\n",
    "\t.expand method- multiply out square- outcome is the polynomial equation "
   ]
  },
  {
   "cell_type": "code",
   "execution_count": 4,
   "id": "59fa2b3d-dc57-42dc-a66a-e77049071a3f",
   "metadata": {},
   "outputs": [
    {
     "data": {
      "text/latex": [
       "$\\displaystyle x^{2} - 2 x y + y^{2}$"
      ],
      "text/plain": [
       "x**2 - 2*x*y + y**2"
      ]
     },
     "execution_count": 4,
     "metadata": {},
     "output_type": "execute_result"
    }
   ],
   "source": [
    "from sympy import Symbol\n",
    "x, y = Symbol('x'), Symbol('y')\n",
    "expression=(x-y)**2\n",
    "expression.expand()"
   ]
  },
  {
   "cell_type": "code",
   "execution_count": 6,
   "id": "b2c0d316-6a92-4a08-9062-31355ba35db6",
   "metadata": {},
   "outputs": [],
   "source": [
    "import numpy as np\n",
    "ε_values = 5*np.random.randn(100) -2"
   ]
  },
  {
   "cell_type": "markdown",
   "id": "2791307b-257c-44fe-b79f-acfaa9c548af",
   "metadata": {},
   "source": [
    "import numpy, store epsilon values as 100 random draws from a normal distributino with mean 5 and stadard dev -2"
   ]
  },
  {
   "cell_type": "code",
   "execution_count": 9,
   "id": "f0dda543-06b4-4f1d-a26c-4cdc81af486d",
   "metadata": {},
   "outputs": [
    {
     "data": {
      "text/plain": [
       "'UT'"
      ]
     },
     "execution_count": 9,
     "metadata": {},
     "output_type": "execute_result"
    }
   ],
   "source": [
    "\n",
    "#What is the output of the following code?\n",
    "x = [10, 'UT', False]\n",
    "x.pop(1)\n"
   ]
  },
  {
   "cell_type": "markdown",
   "id": "59ff85c7-6d31-4198-9561-294b97b30a19",
   "metadata": {},
   "source": [
    "pop out index 1 \n",
    "\n",
    "Types:\n",
    "x=1 is an int\n",
    "y=1.0 is a float "
   ]
  },
  {
   "cell_type": "code",
   "execution_count": 12,
   "id": "367cf438-e54b-4375-bd1d-5bff8ace238f",
   "metadata": {},
   "outputs": [
    {
     "data": {
      "text/plain": [
       "list"
      ]
     },
     "execution_count": 12,
     "metadata": {},
     "output_type": "execute_result"
    }
   ],
   "source": [
    "x = [10, 'UT', False]\n",
    "type(x)"
   ]
  },
  {
   "cell_type": "code",
   "execution_count": 14,
   "id": "d0e78882-7f02-4412-92de-d7cc127a4573",
   "metadata": {},
   "outputs": [
    {
     "data": {
      "text/plain": [
       "True"
      ]
     },
     "execution_count": 14,
     "metadata": {},
     "output_type": "execute_result"
    }
   ],
   "source": [
    "#What will be the output of the following code?\n",
    "z = 10 < 100\n",
    "z"
   ]
  },
  {
   "cell_type": "code",
   "execution_count": 18,
   "id": "53b4d721-8574-44fb-84d1-932744177357",
   "metadata": {},
   "outputs": [
    {
     "data": {
      "text/plain": [
       "tuple"
      ]
     },
     "execution_count": 18,
     "metadata": {},
     "output_type": "execute_result"
    }
   ],
   "source": [
    "#What is the type of x in the following example?\n",
    "x = 'a', 'b'\n",
    "type(x)"
   ]
  },
  {
   "cell_type": "markdown",
   "id": "998f0122-4ee0-4695-af86-c99cefb9c40c",
   "metadata": {},
   "source": [
    "Can't pop in a tuple- that is a list method"
   ]
  },
  {
   "cell_type": "code",
   "execution_count": 35,
   "id": "edc101f1-bc83-48f2-8b17-8068eda199f8",
   "metadata": {},
   "outputs": [
    {
     "data": {
      "text/html": [
       "<div>\n",
       "<style scoped>\n",
       "    .dataframe tbody tr th:only-of-type {\n",
       "        vertical-align: middle;\n",
       "    }\n",
       "\n",
       "    .dataframe tbody tr th {\n",
       "        vertical-align: top;\n",
       "    }\n",
       "\n",
       "    .dataframe thead th {\n",
       "        text-align: right;\n",
       "    }\n",
       "</style>\n",
       "<table border=\"1\" class=\"dataframe\">\n",
       "  <thead>\n",
       "    <tr style=\"text-align: right;\">\n",
       "      <th></th>\n",
       "      <th>col0</th>\n",
       "      <th>col1</th>\n",
       "      <th>col2</th>\n",
       "      <th>col3</th>\n",
       "      <th>col4</th>\n",
       "      <th>col5</th>\n",
       "    </tr>\n",
       "  </thead>\n",
       "  <tbody>\n",
       "    <tr>\n",
       "      <th>a</th>\n",
       "      <td>0.0</td>\n",
       "      <td>1.0</td>\n",
       "      <td>2.0</td>\n",
       "      <td>3.0</td>\n",
       "      <td>4.0</td>\n",
       "      <td>5.0</td>\n",
       "    </tr>\n",
       "    <tr>\n",
       "      <th>b</th>\n",
       "      <td>6.0</td>\n",
       "      <td>7.0</td>\n",
       "      <td>8.0</td>\n",
       "      <td>9.0</td>\n",
       "      <td>10.0</td>\n",
       "      <td>11.0</td>\n",
       "    </tr>\n",
       "    <tr>\n",
       "      <th>c</th>\n",
       "      <td>12.0</td>\n",
       "      <td>13.0</td>\n",
       "      <td>14.0</td>\n",
       "      <td>15.0</td>\n",
       "      <td>16.0</td>\n",
       "      <td>17.0</td>\n",
       "    </tr>\n",
       "    <tr>\n",
       "      <th>d</th>\n",
       "      <td>18.0</td>\n",
       "      <td>19.0</td>\n",
       "      <td>20.0</td>\n",
       "      <td>21.0</td>\n",
       "      <td>22.0</td>\n",
       "      <td>23.0</td>\n",
       "    </tr>\n",
       "    <tr>\n",
       "      <th>e</th>\n",
       "      <td>24.0</td>\n",
       "      <td>25.0</td>\n",
       "      <td>26.0</td>\n",
       "      <td>27.0</td>\n",
       "      <td>28.0</td>\n",
       "      <td>29.0</td>\n",
       "    </tr>\n",
       "    <tr>\n",
       "      <th>f</th>\n",
       "      <td>30.0</td>\n",
       "      <td>31.0</td>\n",
       "      <td>32.0</td>\n",
       "      <td>33.0</td>\n",
       "      <td>34.0</td>\n",
       "      <td>35.0</td>\n",
       "    </tr>\n",
       "  </tbody>\n",
       "</table>\n",
       "</div>"
      ],
      "text/plain": [
       "   col0  col1  col2  col3  col4  col5\n",
       "a   0.0   1.0   2.0   3.0   4.0   5.0\n",
       "b   6.0   7.0   8.0   9.0  10.0  11.0\n",
       "c  12.0  13.0  14.0  15.0  16.0  17.0\n",
       "d  18.0  19.0  20.0  21.0  22.0  23.0\n",
       "e  24.0  25.0  26.0  27.0  28.0  29.0\n",
       "f  30.0  31.0  32.0  33.0  34.0  35.0"
      ]
     },
     "execution_count": 35,
     "metadata": {},
     "output_type": "execute_result"
    }
   ],
   "source": [
    "#have a dataframe and write code to select cell with entry 8.0 using .loc function\n",
    "import pandas as pd\n",
    "import numpy as np\n",
    "df = pd.DataFrame(\n",
    "data = np.reshape(range(36),(6,6)), #takes values 0-35 into a 6x6 matrix \n",
    "index = [\"a\", \"b\", \"c\", \"d\", \"e\", \"f\"],\n",
    "columns = [\"col\" + str(i) for i in range(6)],\n",
    "dtype = float,\n",
    ")\n",
    "df"
   ]
  },
  {
   "cell_type": "code",
   "execution_count": 39,
   "id": "dc0613ee-098a-4cdc-a0c6-640e1e7436d8",
   "metadata": {},
   "outputs": [
    {
     "data": {
      "text/plain": [
       "8.0"
      ]
     },
     "execution_count": 39,
     "metadata": {},
     "output_type": "execute_result"
    }
   ],
   "source": [
    "#geting the 8.0 entry with .loc \n",
    "df.loc['b','col2']"
   ]
  },
  {
   "cell_type": "code",
   "execution_count": 47,
   "id": "f97c8e92-6269-409b-8bf4-36a0a19aabe3",
   "metadata": {},
   "outputs": [
    {
     "data": {
      "text/plain": [
       "8.0"
      ]
     },
     "execution_count": 47,
     "metadata": {},
     "output_type": "execute_result"
    }
   ],
   "source": [
    "#now using .iloc\n",
    "df.iloc[1,2]   #use index values of the columns and rows "
   ]
  },
  {
   "cell_type": "code",
   "execution_count": 49,
   "id": "6aeb5da5-1fae-4142-9696-04e6868f7f16",
   "metadata": {},
   "outputs": [
    {
     "data": {
      "text/html": [
       "<div>\n",
       "<style scoped>\n",
       "    .dataframe tbody tr th:only-of-type {\n",
       "        vertical-align: middle;\n",
       "    }\n",
       "\n",
       "    .dataframe tbody tr th {\n",
       "        vertical-align: top;\n",
       "    }\n",
       "\n",
       "    .dataframe thead th {\n",
       "        text-align: right;\n",
       "    }\n",
       "</style>\n",
       "<table border=\"1\" class=\"dataframe\">\n",
       "  <thead>\n",
       "    <tr style=\"text-align: right;\">\n",
       "      <th></th>\n",
       "      <th>col0</th>\n",
       "      <th>col1</th>\n",
       "      <th>col2</th>\n",
       "      <th>col3</th>\n",
       "      <th>col4</th>\n",
       "      <th>col5</th>\n",
       "      <th>New_Column</th>\n",
       "    </tr>\n",
       "  </thead>\n",
       "  <tbody>\n",
       "    <tr>\n",
       "      <th>a</th>\n",
       "      <td>0.0</td>\n",
       "      <td>1.0</td>\n",
       "      <td>2.0</td>\n",
       "      <td>3.0</td>\n",
       "      <td>4.0</td>\n",
       "      <td>5.0</td>\n",
       "      <td>4</td>\n",
       "    </tr>\n",
       "    <tr>\n",
       "      <th>b</th>\n",
       "      <td>6.0</td>\n",
       "      <td>7.0</td>\n",
       "      <td>8.0</td>\n",
       "      <td>9.0</td>\n",
       "      <td>10.0</td>\n",
       "      <td>11.0</td>\n",
       "      <td>4</td>\n",
       "    </tr>\n",
       "    <tr>\n",
       "      <th>c</th>\n",
       "      <td>12.0</td>\n",
       "      <td>13.0</td>\n",
       "      <td>14.0</td>\n",
       "      <td>15.0</td>\n",
       "      <td>16.0</td>\n",
       "      <td>17.0</td>\n",
       "      <td>4</td>\n",
       "    </tr>\n",
       "    <tr>\n",
       "      <th>d</th>\n",
       "      <td>18.0</td>\n",
       "      <td>19.0</td>\n",
       "      <td>20.0</td>\n",
       "      <td>21.0</td>\n",
       "      <td>22.0</td>\n",
       "      <td>23.0</td>\n",
       "      <td>4</td>\n",
       "    </tr>\n",
       "    <tr>\n",
       "      <th>e</th>\n",
       "      <td>24.0</td>\n",
       "      <td>25.0</td>\n",
       "      <td>26.0</td>\n",
       "      <td>27.0</td>\n",
       "      <td>28.0</td>\n",
       "      <td>29.0</td>\n",
       "      <td>4</td>\n",
       "    </tr>\n",
       "    <tr>\n",
       "      <th>f</th>\n",
       "      <td>30.0</td>\n",
       "      <td>31.0</td>\n",
       "      <td>32.0</td>\n",
       "      <td>33.0</td>\n",
       "      <td>34.0</td>\n",
       "      <td>35.0</td>\n",
       "      <td>4</td>\n",
       "    </tr>\n",
       "  </tbody>\n",
       "</table>\n",
       "</div>"
      ],
      "text/plain": [
       "   col0  col1  col2  col3  col4  col5  New_Column\n",
       "a   0.0   1.0   2.0   3.0   4.0   5.0           4\n",
       "b   6.0   7.0   8.0   9.0  10.0  11.0           4\n",
       "c  12.0  13.0  14.0  15.0  16.0  17.0           4\n",
       "d  18.0  19.0  20.0  21.0  22.0  23.0           4\n",
       "e  24.0  25.0  26.0  27.0  28.0  29.0           4\n",
       "f  30.0  31.0  32.0  33.0  34.0  35.0           4"
      ]
     },
     "execution_count": 49,
     "metadata": {},
     "output_type": "execute_result"
    }
   ],
   "source": [
    "#Assume you have a dataframe df and you have imported all the necessary packages. Write a short\n",
    "#code that creates a new column with the column title \"New_Column\" that contains the integer 4 in\n",
    "#each row?\n",
    "df[\"New_Column\"]=4\n",
    "df"
   ]
  },
  {
   "cell_type": "code",
   "execution_count": 59,
   "id": "7e067b71-a584-4ba7-bbab-efd1a0b63863",
   "metadata": {},
   "outputs": [
    {
     "data": {
      "text/plain": [
       "array([[1, 2, 2],\n",
       "       [1, 1, 0],\n",
       "       [3, 2, 3],\n",
       "       [1, 4, 0],\n",
       "       [2, 3, 0]])"
      ]
     },
     "execution_count": 59,
     "metadata": {},
     "output_type": "execute_result"
    }
   ],
   "source": [
    "#Using np.random.randint create an array with random integers between 0 and 4 with 5 rows and\n",
    "#3 columns\n",
    "array=np.random.randint(0,5,(5,3)) #range start, range stop, feed in tuple (5,3) for size\n",
    "array"
   ]
  },
  {
   "cell_type": "code",
   "execution_count": 69,
   "id": "8419116f-d431-4683-a244-45b32ea1131e",
   "metadata": {},
   "outputs": [],
   "source": [
    "#Assume you have a dataframe df with columns titled \"A\" and \"B\", both containing integers. Use\n",
    "#the .apply() function to create a new column titled \"A_minus_B\" containing the results from\n",
    "#subtracting the entries in \"B\" from the ones in \"A\" element wise\n",
    "df[\"A_minus_B\"]= df.apply(lamda x: x[\"A\"]-x[\"B\"], axis=1 #move through rows)"
   ]
  },
  {
   "cell_type": "code",
   "execution_count": null,
   "id": "492758db-e319-425d-bfb8-5511531abcc6",
   "metadata": {},
   "outputs": [],
   "source": [
    "#without .apply()\n",
    "df[\"A_minus_B\"]=df[\"A\"]-df[\"B\"] "
   ]
  },
  {
   "cell_type": "markdown",
   "id": "000c14c7-3366-43ac-8f5c-a30a602bf417",
   "metadata": {},
   "source": [
    "We define a function f as follow:\n",
    "def f(x):\n",
    "\"\"\"\n",
    "This function squares its argument.\n",
    "\"\"\"\n",
    "return x**2\n",
    "What is the following part of the code called:\n",
    "\"\"\"\n",
    "This function squares its argument.\n",
    "\"\"\"\n",
    "\n",
    "It is called the docstring access with .doc "
   ]
  },
  {
   "cell_type": "code",
   "execution_count": 73,
   "id": "800c23c2-7634-432d-ac7c-117a90311381",
   "metadata": {},
   "outputs": [],
   "source": [
    "#Assume you have a dataframe df and all necessary packages have been imported. Use .iloc to\n",
    "#display every 5th row of df starting from the third row\n",
    "df.iloc[2::5,:] #start at 2 go to end, step by 5, all the columns after the comma"
   ]
  },
  {
   "cell_type": "markdown",
   "id": "0bba7180-e8a3-4ba7-9917-81617113a590",
   "metadata": {},
   "source": [
    "Assume you have a dataframe df. Describe what the following command does:\n",
    "df.sample(frac = 0.25, replace = False)\n",
    "\n",
    "gives a random sample of 25% of total dataset, replace=False means you will not replace values, drawing without replacement every observation new "
   ]
  },
  {
   "cell_type": "markdown",
   "id": "10e2fb03-fda6-4cf6-8cc3-da098f9819d9",
   "metadata": {},
   "source": [
    "Assume you have a dataframe df. Describe the commonalities and differences of the two commands:\n",
    "df.head() and df.info()."
   ]
  },
  {
   "cell_type": "code",
   "execution_count": 85,
   "id": "ef058f9c-3fda-4710-9315-cd645b70440a",
   "metadata": {},
   "outputs": [
    {
     "data": {
      "text/html": [
       "<div>\n",
       "<style scoped>\n",
       "    .dataframe tbody tr th:only-of-type {\n",
       "        vertical-align: middle;\n",
       "    }\n",
       "\n",
       "    .dataframe tbody tr th {\n",
       "        vertical-align: top;\n",
       "    }\n",
       "\n",
       "    .dataframe thead th {\n",
       "        text-align: right;\n",
       "    }\n",
       "</style>\n",
       "<table border=\"1\" class=\"dataframe\">\n",
       "  <thead>\n",
       "    <tr style=\"text-align: right;\">\n",
       "      <th></th>\n",
       "      <th>col0</th>\n",
       "      <th>col1</th>\n",
       "      <th>col2</th>\n",
       "      <th>col3</th>\n",
       "      <th>col4</th>\n",
       "      <th>col5</th>\n",
       "      <th>New_Column</th>\n",
       "    </tr>\n",
       "  </thead>\n",
       "  <tbody>\n",
       "    <tr>\n",
       "      <th>a</th>\n",
       "      <td>0.0</td>\n",
       "      <td>1.0</td>\n",
       "      <td>2.0</td>\n",
       "      <td>3.0</td>\n",
       "      <td>4.0</td>\n",
       "      <td>5.0</td>\n",
       "      <td>4</td>\n",
       "    </tr>\n",
       "    <tr>\n",
       "      <th>b</th>\n",
       "      <td>6.0</td>\n",
       "      <td>7.0</td>\n",
       "      <td>8.0</td>\n",
       "      <td>9.0</td>\n",
       "      <td>10.0</td>\n",
       "      <td>11.0</td>\n",
       "      <td>4</td>\n",
       "    </tr>\n",
       "    <tr>\n",
       "      <th>c</th>\n",
       "      <td>12.0</td>\n",
       "      <td>13.0</td>\n",
       "      <td>14.0</td>\n",
       "      <td>15.0</td>\n",
       "      <td>16.0</td>\n",
       "      <td>17.0</td>\n",
       "      <td>4</td>\n",
       "    </tr>\n",
       "    <tr>\n",
       "      <th>d</th>\n",
       "      <td>18.0</td>\n",
       "      <td>19.0</td>\n",
       "      <td>20.0</td>\n",
       "      <td>21.0</td>\n",
       "      <td>22.0</td>\n",
       "      <td>23.0</td>\n",
       "      <td>4</td>\n",
       "    </tr>\n",
       "    <tr>\n",
       "      <th>e</th>\n",
       "      <td>24.0</td>\n",
       "      <td>25.0</td>\n",
       "      <td>26.0</td>\n",
       "      <td>27.0</td>\n",
       "      <td>28.0</td>\n",
       "      <td>29.0</td>\n",
       "      <td>4</td>\n",
       "    </tr>\n",
       "  </tbody>\n",
       "</table>\n",
       "</div>"
      ],
      "text/plain": [
       "   col0  col1  col2  col3  col4  col5  New_Column\n",
       "a   0.0   1.0   2.0   3.0   4.0   5.0           4\n",
       "b   6.0   7.0   8.0   9.0  10.0  11.0           4\n",
       "c  12.0  13.0  14.0  15.0  16.0  17.0           4\n",
       "d  18.0  19.0  20.0  21.0  22.0  23.0           4\n",
       "e  24.0  25.0  26.0  27.0  28.0  29.0           4"
      ]
     },
     "execution_count": 85,
     "metadata": {},
     "output_type": "execute_result"
    }
   ],
   "source": [
    "df.head() "
   ]
  },
  {
   "cell_type": "code",
   "execution_count": 83,
   "id": "00005f40-354d-4854-84fb-4481747380a9",
   "metadata": {},
   "outputs": [
    {
     "name": "stdout",
     "output_type": "stream",
     "text": [
      "<class 'pandas.core.frame.DataFrame'>\n",
      "Index: 6 entries, a to f\n",
      "Data columns (total 7 columns):\n",
      " #   Column      Non-Null Count  Dtype  \n",
      "---  ------      --------------  -----  \n",
      " 0   col0        6 non-null      float64\n",
      " 1   col1        6 non-null      float64\n",
      " 2   col2        6 non-null      float64\n",
      " 3   col3        6 non-null      float64\n",
      " 4   col4        6 non-null      float64\n",
      " 5   col5        6 non-null      float64\n",
      " 6   New_Column  6 non-null      int64  \n",
      "dtypes: float64(6), int64(1)\n",
      "memory usage: 556.0+ bytes\n"
     ]
    }
   ],
   "source": [
    "df.info()"
   ]
  },
  {
   "cell_type": "markdown",
   "id": "dbdec6ae-8956-477d-8b66-b1304b29a57b",
   "metadata": {},
   "source": [
    "df head shows first 5 observations, while df.info gives more overview specific info, but both give a brief look into a dataframe \n",
    "\n",
    "other important commands df.describe df.tail "
   ]
  },
  {
   "cell_type": "markdown",
   "id": "8db7e556-5802-4a4e-8e36-5282065f247c",
   "metadata": {},
   "source": [
    "Assume you have a dataframe d1 with columns named \"height\" and \"mass\". Describe what the\n",
    "output of the following command will be:\n",
    "d1.plot.scatter(\"mass\",\"height\")\n",
    "\n",
    "Provides a scatterplot with the first variable \"mass\" on the x axis and \"height\" on the y axis\n",
    "\n",
    "tidy data- one observation per row and column, organized easy to view "
   ]
  },
  {
   "cell_type": "markdown",
   "id": "5a6b5c9e-4296-4885-80ec-2ecabb365e91",
   "metadata": {},
   "source": [
    "**Question 25 (1.5 point):**\n",
    "Consider the Solow growth model we discussed in class. In this model, the capital stock kt evolves\n",
    "according to the rule:\n",
    "kt+1 = szkαt + (1 − δ)kt,\n",
    "where:\n",
    "• s ∈ (0, 1) is an exogenously given savings rate\n",
    "• z > 0 is a productivity parameter\n",
    "• α ∈ (0, 1) is the income share of capital\n",
    "• δ ∈ (0, 1) is the depreciation rate.\n",
    "A steady state of the model is a k that solves the above equation when kt+1 = kt = k.\n",
    "Solve for the steady state and then take the derivative of the steady state capital stock with respect\n",
    "to δ. Does the steady state capital stock increase or decrease when δ increases?\n",
    "\n",
    "*In steady state kt+1=kt because k does not change over time*\n",
    "\n",
    "reset equation so \n",
    "k=szk^$\\alpha$+(1-$\\delta$)k\n",
    "\n",
    "$\\delta$k=szk^$\\alpha$\n",
    "\n",
    "k^(1-$\\alpha$)= sz/$\\delta$\n",
    "\n",
    "raise to (1/(1-$\\alpha$)\n",
    "\n",
    "so k = (sz/$\\delta$)^(1/(1-$\\alpha$)\n",
    "\n",
    "now taking derivative with respect to delta \n",
    "\n",
    "$\\delta$^(1/($\\alpha$-1)\n",
    "\n",
    "deritive of k with respect to delta \n",
    "\n",
    "(1/($\\alpha$-1)$\\delta$^(1/($\\alpha$-1)-1)\n",
    "\n",
    "*is it positive or negative?*\n",
    "\n",
    "sz is positive, delta is btwn 0-1 is positive soooo is (1/($\\alpha$-1) pos or neg?\n",
    "\n",
    "that is negative sooo.. posxposxneg = neg \n",
    "\n",
    "*higher depriciation leads to a lower steady state*"
   ]
  },
  {
   "cell_type": "markdown",
   "id": "bddb6c96-971b-40bb-a624-ca2b5586dd6d",
   "metadata": {},
   "source": [
    "**Question 26 (2 points):**\n",
    "Consider a competitive market in which buyers and sellers are both price takers.\n",
    "The market consists of the following objects:\n",
    "• a linear demand curve Q = ad − bdp\n",
    "• a linear supply curve Q = az + bz (p − t),\n",
    "\n",
    "where\n",
    "• p is the price paid by the buyer,\n",
    "• Q is the quantity,\n",
    "• t is a per-unit tax,\n",
    "• other symbols are demand and supply parameters (intercept and slope of the two linear curves)\n",
    "\n",
    "We assume that all parameters are non-negative.\n",
    "\n",
    "Depict this market graphically (put the quantity Q on the x-axis and the price p on the y-axis).\n",
    "\n",
    "Indicate the following objects:\n",
    "\n",
    "• consumer surplus\n",
    "\n",
    "• producer surplus\n",
    "\n",
    "• tax revenue\n",
    "\n",
    "• deadweight loss\n",
    "\n",
    "Make sure to label all curves and axes appropriately.\n",
    "What happens to the deadweight loss when the tax is 0?\n",
    "\n",
    "*would just draw a graph by hand with labels and such* \n",
    "\n",
    "*when tax is 0 there is no dwl, dwl=0*\n",
    "\n",
    "could think about dwl with inc or dec tax\n"
   ]
  },
  {
   "cell_type": "code",
   "execution_count": 109,
   "id": "7d54b5a7-e6a7-439e-9cf8-8c94a0c999d7",
   "metadata": {},
   "outputs": [],
   "source": [
    "#Assume we have a dataframe abc with columns \"birth_month\", \"city\", \"height\" and \"weight\".\n",
    "#Explain what the following code does.\n",
    "abc.groupby([\"birth_month\",\"city\"]).agg(\n",
    "aux1=(\"height\",\"median\"),\n",
    "aux2=(\"weight\",\"std\"),\n",
    ")\n",
    "#.groupby uses categorical data to make groups .agg aggregates data to find median height and dts og weigth "
   ]
  },
  {
   "cell_type": "code",
   "execution_count": 116,
   "id": "3df8b9f3-7f2f-476f-a148-3f2d943dd9cd",
   "metadata": {},
   "outputs": [
    {
     "data": {
      "text/html": [
       "<div>\n",
       "<style scoped>\n",
       "    .dataframe tbody tr th:only-of-type {\n",
       "        vertical-align: middle;\n",
       "    }\n",
       "\n",
       "    .dataframe tbody tr th {\n",
       "        vertical-align: top;\n",
       "    }\n",
       "\n",
       "    .dataframe thead th {\n",
       "        text-align: right;\n",
       "    }\n",
       "</style>\n",
       "<table border=\"1\" class=\"dataframe\">\n",
       "  <thead>\n",
       "    <tr style=\"text-align: right;\">\n",
       "      <th></th>\n",
       "      <th>One</th>\n",
       "      <th>Two</th>\n",
       "    </tr>\n",
       "  </thead>\n",
       "  <tbody>\n",
       "    <tr>\n",
       "      <th>0</th>\n",
       "      <td>2.0</td>\n",
       "      <td>4</td>\n",
       "    </tr>\n",
       "    <tr>\n",
       "      <th>1</th>\n",
       "      <td>2.0</td>\n",
       "      <td>4</td>\n",
       "    </tr>\n",
       "    <tr>\n",
       "      <th>2</th>\n",
       "      <td>2.0</td>\n",
       "      <td>4</td>\n",
       "    </tr>\n",
       "    <tr>\n",
       "      <th>3</th>\n",
       "      <td>2.0</td>\n",
       "      <td>4</td>\n",
       "    </tr>\n",
       "    <tr>\n",
       "      <th>4</th>\n",
       "      <td>2.0</td>\n",
       "      <td>4</td>\n",
       "    </tr>\n",
       "  </tbody>\n",
       "</table>\n",
       "</div>"
      ],
      "text/plain": [
       "   One  Two\n",
       "0  2.0    4\n",
       "1  2.0    4\n",
       "2  2.0    4\n",
       "3  2.0    4\n",
       "4  2.0    4"
      ]
     },
     "execution_count": 116,
     "metadata": {},
     "output_type": "execute_result"
    }
   ],
   "source": [
    "df = pd.DataFrame(\n",
    "{\n",
    "\"One\": 2.0, #insert 2.0 for ever row in df \n",
    "\"Two\": [4]*5, #5 times so will have 5 rows \n",
    "}\n",
    ")\n",
    "df\n",
    "#What is the index of this dataframe df?\n",
    "#What are the column names of the dataframe df?"
   ]
  },
  {
   "cell_type": "markdown",
   "id": "a9cdee5a-9d0c-443b-9715-7435849f4d83",
   "metadata": {},
   "source": [
    "The index values are [0],[1],[2],[3],[4] , the column names are \"One\" and \"Two\""
   ]
  },
  {
   "cell_type": "code",
   "execution_count": 118,
   "id": "1a3a40ff-755b-4d50-a34f-afa541183d0e",
   "metadata": {},
   "outputs": [
    {
     "data": {
      "text/plain": [
       "False"
      ]
     },
     "execution_count": 118,
     "metadata": {},
     "output_type": "execute_result"
    }
   ],
   "source": [
    "#What is the outcome of the following code?\n",
    "bools = False, True, True\n",
    "all(bools)\n",
    "#false"
   ]
  },
  {
   "cell_type": "markdown",
   "id": "ca0b8608-7170-4a45-8160-5a23f7e5070c",
   "metadata": {},
   "source": [
    "**Question 30** Assume we have a dataframe df. Explain what the following code does:\n",
    "\n",
    "df.rename(columns=str.upper)\n",
    "\n",
    "it renames the columns to a string in all uppercase"
   ]
  },
  {
   "cell_type": "code",
   "execution_count": 125,
   "id": "6ca4e562-6bf9-4fab-802d-12249ffc3d37",
   "metadata": {},
   "outputs": [
    {
     "data": {
      "text/html": [
       "<div>\n",
       "<style scoped>\n",
       "    .dataframe tbody tr th:only-of-type {\n",
       "        vertical-align: middle;\n",
       "    }\n",
       "\n",
       "    .dataframe tbody tr th {\n",
       "        vertical-align: top;\n",
       "    }\n",
       "\n",
       "    .dataframe thead th {\n",
       "        text-align: right;\n",
       "    }\n",
       "</style>\n",
       "<table border=\"1\" class=\"dataframe\">\n",
       "  <thead>\n",
       "    <tr style=\"text-align: right;\">\n",
       "      <th></th>\n",
       "      <th>ONE</th>\n",
       "      <th>TWO</th>\n",
       "    </tr>\n",
       "  </thead>\n",
       "  <tbody>\n",
       "    <tr>\n",
       "      <th>0</th>\n",
       "      <td>2.0</td>\n",
       "      <td>4</td>\n",
       "    </tr>\n",
       "    <tr>\n",
       "      <th>1</th>\n",
       "      <td>2.0</td>\n",
       "      <td>4</td>\n",
       "    </tr>\n",
       "    <tr>\n",
       "      <th>2</th>\n",
       "      <td>2.0</td>\n",
       "      <td>4</td>\n",
       "    </tr>\n",
       "    <tr>\n",
       "      <th>3</th>\n",
       "      <td>2.0</td>\n",
       "      <td>4</td>\n",
       "    </tr>\n",
       "    <tr>\n",
       "      <th>4</th>\n",
       "      <td>2.0</td>\n",
       "      <td>4</td>\n",
       "    </tr>\n",
       "  </tbody>\n",
       "</table>\n",
       "</div>"
      ],
      "text/plain": [
       "   ONE  TWO\n",
       "0  2.0    4\n",
       "1  2.0    4\n",
       "2  2.0    4\n",
       "3  2.0    4\n",
       "4  2.0    4"
      ]
     },
     "execution_count": 125,
     "metadata": {},
     "output_type": "execute_result"
    }
   ],
   "source": [
    "df.rename(columns=str.upper)"
   ]
  },
  {
   "cell_type": "markdown",
   "id": "06e26bc0-9560-4221-be0f-6240f3febfa0",
   "metadata": {},
   "source": [
    "**Question 31**\n",
    "Assume we have a dataframe df. Describe what the following code does:\n",
    "\n",
    "df.iloc[:5, -2:]\n",
    "\n",
    "uses the .iloc function on a data frame to show rows from the start to row index 4, and columns from -2 to the end of the df columns (last 2 columns and first five row)"
   ]
  },
  {
   "cell_type": "code",
   "execution_count": 127,
   "id": "b6a7461f-1461-477a-8b69-fdf84cffcd5b",
   "metadata": {},
   "outputs": [
    {
     "data": {
      "text/html": [
       "<div>\n",
       "<style scoped>\n",
       "    .dataframe tbody tr th:only-of-type {\n",
       "        vertical-align: middle;\n",
       "    }\n",
       "\n",
       "    .dataframe tbody tr th {\n",
       "        vertical-align: top;\n",
       "    }\n",
       "\n",
       "    .dataframe thead th {\n",
       "        text-align: right;\n",
       "    }\n",
       "</style>\n",
       "<table border=\"1\" class=\"dataframe\">\n",
       "  <thead>\n",
       "    <tr style=\"text-align: right;\">\n",
       "      <th></th>\n",
       "      <th>One</th>\n",
       "      <th>Two</th>\n",
       "    </tr>\n",
       "  </thead>\n",
       "  <tbody>\n",
       "    <tr>\n",
       "      <th>0</th>\n",
       "      <td>2.0</td>\n",
       "      <td>4</td>\n",
       "    </tr>\n",
       "    <tr>\n",
       "      <th>1</th>\n",
       "      <td>2.0</td>\n",
       "      <td>4</td>\n",
       "    </tr>\n",
       "    <tr>\n",
       "      <th>2</th>\n",
       "      <td>2.0</td>\n",
       "      <td>4</td>\n",
       "    </tr>\n",
       "    <tr>\n",
       "      <th>3</th>\n",
       "      <td>2.0</td>\n",
       "      <td>4</td>\n",
       "    </tr>\n",
       "    <tr>\n",
       "      <th>4</th>\n",
       "      <td>2.0</td>\n",
       "      <td>4</td>\n",
       "    </tr>\n",
       "  </tbody>\n",
       "</table>\n",
       "</div>"
      ],
      "text/plain": [
       "   One  Two\n",
       "0  2.0    4\n",
       "1  2.0    4\n",
       "2  2.0    4\n",
       "3  2.0    4\n",
       "4  2.0    4"
      ]
     },
     "execution_count": 127,
     "metadata": {},
     "output_type": "execute_result"
    }
   ],
   "source": [
    "df.iloc[:5,-2:]"
   ]
  },
  {
   "cell_type": "markdown",
   "id": "aa383970-cbfc-470d-aebc-b74da40adde1",
   "metadata": {},
   "source": [
    "**Question 32** Assume we have a dataframe df. Describe what the following code does:\n",
    "\n",
    "df.iloc[:6:1, -6:-2:1]\n",
    "\n",
    "takes the rows from the start to index 6 stepping by 1, and the coloumns from -6 to -2 step by 1\n",
    "\n",
    "so row 0-5 and columns -6:-2 "
   ]
  },
  {
   "cell_type": "code",
   "execution_count": 131,
   "id": "ccfbfb92-f47d-4e1d-896e-68e67b89344c",
   "metadata": {},
   "outputs": [
    {
     "data": {
      "text/html": [
       "<div>\n",
       "<style scoped>\n",
       "    .dataframe tbody tr th:only-of-type {\n",
       "        vertical-align: middle;\n",
       "    }\n",
       "\n",
       "    .dataframe tbody tr th {\n",
       "        vertical-align: top;\n",
       "    }\n",
       "\n",
       "    .dataframe thead th {\n",
       "        text-align: right;\n",
       "    }\n",
       "</style>\n",
       "<table border=\"1\" class=\"dataframe\">\n",
       "  <thead>\n",
       "    <tr style=\"text-align: right;\">\n",
       "      <th></th>\n",
       "    </tr>\n",
       "  </thead>\n",
       "  <tbody>\n",
       "    <tr>\n",
       "      <th>0</th>\n",
       "    </tr>\n",
       "    <tr>\n",
       "      <th>1</th>\n",
       "    </tr>\n",
       "    <tr>\n",
       "      <th>2</th>\n",
       "    </tr>\n",
       "    <tr>\n",
       "      <th>3</th>\n",
       "    </tr>\n",
       "    <tr>\n",
       "      <th>4</th>\n",
       "    </tr>\n",
       "  </tbody>\n",
       "</table>\n",
       "</div>"
      ],
      "text/plain": [
       "Empty DataFrame\n",
       "Columns: []\n",
       "Index: [0, 1, 2, 3, 4]"
      ]
     },
     "execution_count": 131,
     "metadata": {},
     "output_type": "execute_result"
    }
   ],
   "source": [
    "df.iloc[:6:1,-6:-2:1]"
   ]
  },
  {
   "cell_type": "markdown",
   "id": "35003866-fa81-4715-9d0f-ef599b2bb50c",
   "metadata": {},
   "source": [
    "Python knows when a function ends from unindentation "
   ]
  },
  {
   "cell_type": "markdown",
   "id": "bd38c7ea-c018-4039-8086-728832d267cf",
   "metadata": {},
   "source": [
    "Explain what the pandas function .rolling(n).mean() does\n",
    "\n",
    ".rolling(n).mean provides a rolling mean for a time range, for observation in window of n computes average "
   ]
  },
  {
   "cell_type": "code",
   "execution_count": 139,
   "id": "f61c64fe-322d-4214-81bf-0a8b580d2e65",
   "metadata": {},
   "outputs": [
    {
     "name": "stdout",
     "output_type": "stream",
     "text": [
      "[0, 0, 1, 1, 1]\n"
     ]
    }
   ],
   "source": [
    "#What is the output of the following code?\n",
    "print([x // 3 for x in range(1, 6)])\n",
    "#in a list [1//3=0,2//3=0...]\n",
    "#[0,0,1,1,1]"
   ]
  },
  {
   "cell_type": "code",
   "execution_count": 143,
   "id": "642beb8d-8e15-44d8-9b84-cdaea2bf870b",
   "metadata": {},
   "outputs": [
    {
     "name": "stdout",
     "output_type": "stream",
     "text": [
      "[1, 2, 3, 0, 1, 2, 3]\n"
     ]
    }
   ],
   "source": [
    "#What is the output of the following code?\n",
    "print([x % 4 for x in range(1, 8)])\n",
    "#in a list remainder of divide by for so 1//4=0 remainder 1, 2//4=0 remainder 2\n",
    "#[1,2,3,0,1,2,3]"
   ]
  },
  {
   "cell_type": "markdown",
   "id": "16ec1409-cf6e-445a-b449-a49828f317ca",
   "metadata": {},
   "source": [
    "Explain what .round(n) does\n",
    "\n",
    "rounds something to n places 10^(-N)\n",
    "\n",
    "round(2) rounds to 2nd decimal\n",
    "\n",
    "round(-2) round to 100s , round(-1) rounds to 10s place"
   ]
  },
  {
   "cell_type": "code",
   "execution_count": 156,
   "id": "e48e18e9-7a34-4d3c-9246-be9d3e973b0a",
   "metadata": {},
   "outputs": [
    {
     "data": {
      "text/plain": [
       "0      0\n",
       "1      0\n",
       "2      0\n",
       "3      0\n",
       "4      0\n",
       "5      0\n",
       "6     10\n",
       "7     10\n",
       "8     10\n",
       "9     10\n",
       "10    10\n",
       "11    10\n",
       "12    10\n",
       "13    10\n",
       "14    10\n",
       "15    20\n",
       "16    20\n",
       "17    20\n",
       "18    20\n",
       "19    20\n",
       "dtype: int64"
      ]
     },
     "execution_count": 156,
     "metadata": {},
     "output_type": "execute_result"
    }
   ],
   "source": [
    "x=pd.Series(range(0,20))\n",
    "x.round(-1)"
   ]
  },
  {
   "cell_type": "markdown",
   "id": "6432e4d3-9e87-408c-b405-4e04a7eb3454",
   "metadata": {},
   "source": [
    "**True or False**\n",
    "\n",
    "Indicate for each of the following statements whether it is true or not. Correct answers give 0.5\n",
    "points each (there are no minus points for false answers).\n",
    "\n",
    "(a) In the code x = 1, x is called the name of the object. TRUE \n",
    "\n",
    "(b) In s = ['123'] the object s is of type string. FALSE its a list \n",
    "\n",
    "(c) The command int('100') + 400 produces the integer 500 as output. TRUE \n",
    "\n",
    "(d) After executing the code line x = y, x and y will have different identities. (Assume that y is\n",
    "already stored in the memory as an integer) FALSE "
   ]
  },
  {
   "cell_type": "markdown",
   "id": "89b7aa7f-9510-4d45-86f1-1cd917e3347c",
   "metadata": {},
   "source": [
    "**Question 39 (0.5 points):**\n",
    "Assume we have a dataframe df with a column titled \"C1\" of the type Categorical. Describe what\n",
    "the following code does.\n",
    "\n",
    "df[\"C1\"].mode()\n",
    "\n",
    "categorical data type, .mode() returns the most frequent category like mode in mean,median,mode"
   ]
  },
  {
   "cell_type": "markdown",
   "id": "b3cce5d6-7903-4e2c-8891-66edf475bdcf",
   "metadata": {},
   "source": [
    "**Question 40 (1 point):**\n",
    "Assume we have a dataframe df with multiple columns all containing integers. Explain what the\n",
    "following code does.\n",
    "\n",
    "df.rank()\n",
    "\n",
    "Ranks the entries in each column and starts with smallest numbers\n"
   ]
  },
  {
   "cell_type": "markdown",
   "id": "2328875b-7926-4d9b-a8f9-d6086614c789",
   "metadata": {},
   "source": [
    "Now, have less code stuff but code have lawerence curve, gini coefficient, etc "
   ]
  },
  {
   "cell_type": "markdown",
   "id": "d7c93a91-e610-464d-a69d-8d01bb82434d",
   "metadata": {},
   "source": [
    "**3/10/25 Midterm Talk**\n",
    "\n",
    "ignore colors in code, \n",
    "\n",
    "study : comes from lectures 1-12\n",
    "\n",
    "lawerence curve by hand, x and y values, draw curve \n",
    "\n",
    "empirical patterns of business cycle (more developed more syncronized in gdp and growth)\n",
    "\n",
    "true or false facts about developed countries economic things (ex: did us overtake british empire in ...) \n",
    "\n",
    "write code by hand, details and syntax,, loc reference datafram? , iloc by index \n",
    "\n",
    "understand code outputs and definitions, types (set vs dict) \n",
    "\n",
    "loop : for i in range\n",
    "\n",
    "defining time series, random draws and appending , overwriting or filling up list/ array \n",
    "\n",
    "\n"
   ]
  },
  {
   "cell_type": "code",
   "execution_count": null,
   "id": "bc809c75-9496-490f-9045-17bdf8b54a32",
   "metadata": {},
   "outputs": [],
   "source": []
  }
 ],
 "metadata": {
  "kernelspec": {
   "display_name": "Python [conda env:base] *",
   "language": "python",
   "name": "conda-base-py"
  },
  "language_info": {
   "codemirror_mode": {
    "name": "ipython",
    "version": 3
   },
   "file_extension": ".py",
   "mimetype": "text/x-python",
   "name": "python",
   "nbconvert_exporter": "python",
   "pygments_lexer": "ipython3",
   "version": "3.12.7"
  }
 },
 "nbformat": 4,
 "nbformat_minor": 5
}
