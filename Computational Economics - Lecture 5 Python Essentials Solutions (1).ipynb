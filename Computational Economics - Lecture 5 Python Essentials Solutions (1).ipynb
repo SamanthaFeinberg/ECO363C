{
 "cells": [
  {
   "cell_type": "markdown",
   "id": "208a07b5",
   "metadata": {},
   "source": [
    "# Python Essentials\n",
    "In this lecture, we will cover some core Python features more systematically."
   ]
  },
  {
   "cell_type": "markdown",
   "id": "4a9cd84e",
   "metadata": {},
   "source": [
    "## Data Types\n",
    "Computer programs typically keep track of a range of data types.\n",
    "\n",
    "For example, `1.5` is a _floating point number_, while `1` is an _integer_.\n",
    "\n",
    "Programs need to distinguish between these two. One reason is because they are stored in memory differently. Integers are stored as exact values, floats are stored as approximate values in memory due to limitations of binary representation (floating-point precision issues can arise).\n",
    "\n",
    "Another reason is that arithmetic operations are different.\n",
    "\n",
    "In general, floats are more informative but arithmetic operations on integers are faster and more accurate.\n",
    "\n",
    "Python provides numerous other built-in Python data types, some of which we have already met:\n",
    "\n",
    " - strings\n",
    " - lists\n",
    " \n",
    "We are now looking at those more closely."
   ]
  },
  {
   "cell_type": "markdown",
   "id": "3e9c028b",
   "metadata": {},
   "source": [
    "### Primitive Data Types\n",
    "#### Boolean Values\n",
    "One simple data type is __Boolean values__. They can be either `True` or `False`."
   ]
  },
  {
   "cell_type": "code",
   "execution_count": 463,
   "id": "e7916bf6",
   "metadata": {},
   "outputs": [
    {
     "data": {
      "text/plain": [
       "True"
      ]
     },
     "execution_count": 463,
     "metadata": {},
     "output_type": "execute_result"
    }
   ],
   "source": [
    "x = True\n",
    "x"
   ]
  },
  {
   "cell_type": "markdown",
   "id": "9661668b",
   "metadata": {},
   "source": [
    "We can check the type of any object in memory using the `type()` function."
   ]
  },
  {
   "cell_type": "code",
   "execution_count": 464,
   "id": "e2e1ad47",
   "metadata": {},
   "outputs": [
    {
     "data": {
      "text/plain": [
       "bool"
      ]
     },
     "execution_count": 464,
     "metadata": {},
     "output_type": "execute_result"
    }
   ],
   "source": [
    "type(x)"
   ]
  },
  {
   "cell_type": "markdown",
   "id": "66090443",
   "metadata": {},
   "source": [
    "In the next line of code, the interpreter evaluates the expression on the right of `=` and binds `y` to this value."
   ]
  },
  {
   "cell_type": "code",
   "execution_count": 465,
   "id": "f8fc7596",
   "metadata": {},
   "outputs": [
    {
     "data": {
      "text/plain": [
       "False"
      ]
     },
     "execution_count": 465,
     "metadata": {},
     "output_type": "execute_result"
    }
   ],
   "source": [
    "y = 100 < 10\n",
    "y"
   ]
  },
  {
   "cell_type": "code",
   "execution_count": 466,
   "id": "5437041e",
   "metadata": {},
   "outputs": [
    {
     "data": {
      "text/plain": [
       "bool"
      ]
     },
     "execution_count": 466,
     "metadata": {},
     "output_type": "execute_result"
    }
   ],
   "source": [
    "type(y)"
   ]
  },
  {
   "cell_type": "markdown",
   "id": "e0dd8fe7",
   "metadata": {},
   "source": [
    "In arithmetic expressions, `True` is converted to `1` and `False` is converted to `0`.\n",
    "\n",
    "This is called __Boolean arithmetic__ and is often useful in programming."
   ]
  },
  {
   "cell_type": "code",
   "execution_count": 467,
   "id": "e5b1e5cd",
   "metadata": {},
   "outputs": [
    {
     "data": {
      "text/plain": [
       "1"
      ]
     },
     "execution_count": 467,
     "metadata": {},
     "output_type": "execute_result"
    }
   ],
   "source": [
    "x + y"
   ]
  },
  {
   "cell_type": "code",
   "execution_count": 468,
   "id": "c8e6866c",
   "metadata": {},
   "outputs": [
    {
     "data": {
      "text/plain": [
       "0"
      ]
     },
     "execution_count": 468,
     "metadata": {},
     "output_type": "execute_result"
    }
   ],
   "source": [
    "x * y"
   ]
  },
  {
   "cell_type": "code",
   "execution_count": 469,
   "id": "0d943f8d",
   "metadata": {},
   "outputs": [
    {
     "data": {
      "text/plain": [
       "2"
      ]
     },
     "execution_count": 469,
     "metadata": {},
     "output_type": "execute_result"
    }
   ],
   "source": [
    "True + True"
   ]
  },
  {
   "cell_type": "code",
   "execution_count": 470,
   "id": "736bde26",
   "metadata": {},
   "outputs": [
    {
     "data": {
      "text/plain": [
       "3"
      ]
     },
     "execution_count": 470,
     "metadata": {},
     "output_type": "execute_result"
    }
   ],
   "source": [
    "bools = [True, True, False, True] # List of Boolean values\n",
    "sum(bools)"
   ]
  },
  {
   "cell_type": "markdown",
   "id": "0007e0d1-9429-4e4b-a5dd-d71b91e9a780",
   "metadata": {},
   "source": [
    "Let's see an example where we combine several of these steps:"
   ]
  },
  {
   "cell_type": "code",
   "execution_count": 471,
   "id": "017879ea-7960-4c70-b04a-a3fbdb30a6d9",
   "metadata": {},
   "outputs": [
    {
     "name": "stdout",
     "output_type": "stream",
     "text": [
      "50\n"
     ]
    },
    {
     "data": {
      "image/png": "[encoded data removed]",
      "text/plain": [
       "<Figure size 640x480 with 1 Axes>"
      ]
     },
     "metadata": {},
     "output_type": "display_data"
    }
   ],
   "source": [
    "import numpy as np\n",
    "import matplotlib.pyplot as plt\n",
    "N = 100\n",
    "z = []\n",
    "e = np.linspace(0.5,1.5,100)\n",
    "\n",
    "for i in range(N):\n",
    "    z.append(e[i] < e[i]**2)\n",
    "\n",
    "print(sum(z))\n",
    "plt.plot(e,e**2,'b',label = '$e^2$')\n",
    "plt.plot(e,e,'k',label = '45 degree line')\n",
    "plt.legend()\n",
    "plt.show()"
   ]
  },
  {
   "cell_type": "markdown",
   "id": "397cd461",
   "metadata": {},
   "source": [
    "#### Numeric Types\n",
    "\n",
    "Numeric types are also important primitive data types.\n",
    "\n",
    "We have already encountered `integer` and `float` types. __Complex numbers__ are another primitive data type in Python."
   ]
  },
  {
   "cell_type": "code",
   "execution_count": 473,
   "id": "0fb24177",
   "metadata": {},
   "outputs": [
    {
     "name": "stdout",
     "output_type": "stream",
     "text": [
      "5j\n"
     ]
    },
    {
     "data": {
      "text/plain": [
       "complex"
      ]
     },
     "execution_count": 473,
     "metadata": {},
     "output_type": "execute_result"
    }
   ],
   "source": [
    "x = complex(1,2)\n",
    "y = complex(2,1)\n",
    "print(x*y) # formula for multiplication of complex numbers: \n",
    "           # (a+ib)*(c+id) = (ac - bd) + i(ad+bc) \n",
    "           # (1+2i)(2+i) = 2-2 + i(1+4) = 5i\n",
    "type(x)"
   ]
  },
  {
   "cell_type": "markdown",
   "id": "641bb73c",
   "metadata": {},
   "source": [
    "### Containers\n",
    "\n",
    "Python has several basic types for storing collections of data.\n",
    "\n",
    "We already talked about __lists__. We create lists by using brackets ```[]```.\n",
    "\n",
    "A related data type is __tuples__, which are *immutable* lists."
   ]
  },
  {
   "cell_type": "code",
   "execution_count": 474,
   "id": "29add2aa",
   "metadata": {},
   "outputs": [
    {
     "data": {
      "text/plain": [
       "('a', 'b')"
      ]
     },
     "execution_count": 474,
     "metadata": {},
     "output_type": "execute_result"
    }
   ],
   "source": [
    "x = ('a','b') # Note, that we now use parentheses instead of square brackets\n",
    "x = 'a', 'b' # or no brackets --- the meaning is identical\n",
    "x"
   ]
  },
  {
   "cell_type": "code",
   "execution_count": 475,
   "id": "1769cc9f",
   "metadata": {},
   "outputs": [
    {
     "data": {
      "text/plain": [
       "tuple"
      ]
     },
     "execution_count": 475,
     "metadata": {},
     "output_type": "execute_result"
    }
   ],
   "source": [
    "type(x)"
   ]
  },
  {
   "cell_type": "markdown",
   "id": "4faf8fb7",
   "metadata": {},
   "source": [
    "In Python, an object is called _immutable_ if, once created, the object cannot be changed.\n",
    "\n",
    "Conversely, an object is _mutable_ if it can still be altered after creation.\n",
    "\n",
    "Python lists are mutable."
   ]
  },
  {
   "cell_type": "code",
   "execution_count": 476,
   "id": "17c51a3e",
   "metadata": {},
   "outputs": [
    {
     "name": "stdout",
     "output_type": "stream",
     "text": [
      "[1, 2]\n"
     ]
    },
    {
     "data": {
      "text/plain": [
       "[10, 2]"
      ]
     },
     "execution_count": 476,
     "metadata": {},
     "output_type": "execute_result"
    }
   ],
   "source": [
    "x = [1,2]\n",
    "print(x)\n",
    "x[0] = 10\n",
    "x"
   ]
  },
  {
   "cell_type": "markdown",
   "id": "895e5847",
   "metadata": {},
   "source": [
    "But tuples are not."
   ]
  },
  {
   "cell_type": "code",
   "execution_count": 477,
   "id": "b8c5d4ec",
   "metadata": {},
   "outputs": [
    {
     "name": "stdout",
     "output_type": "stream",
     "text": [
      "(1, 2)\n"
     ]
    },
    {
     "ename": "TypeError",
     "evalue": "'tuple' object does not support item assignment",
     "output_type": "error",
     "traceback": [
      "\u001b[0;31m---------------------------------------------------------------------------\u001b[0m",
      "\u001b[0;31mTypeError\u001b[0m                                 Traceback (most recent call last)",
      "Cell \u001b[0;32mIn[477], line 3\u001b[0m\n\u001b[1;32m      1\u001b[0m x \u001b[38;5;241m=\u001b[39m (\u001b[38;5;241m1\u001b[39m,\u001b[38;5;241m2\u001b[39m)\n\u001b[1;32m      2\u001b[0m \u001b[38;5;28mprint\u001b[39m(x)\n\u001b[0;32m----> 3\u001b[0m x[\u001b[38;5;241m0\u001b[39m] \u001b[38;5;241m=\u001b[39m \u001b[38;5;241m10\u001b[39m\n",
      "\u001b[0;31mTypeError\u001b[0m: 'tuple' object does not support item assignment"
     ]
    }
   ],
   "source": [
    "x = (1,2)\n",
    "print(x)\n",
    "x[0] = 10"
   ]
  },
  {
   "cell_type": "markdown",
   "id": "c33f36ef-6699-4ce7-a762-a14384131b3c",
   "metadata": {},
   "source": [
    "But we can still delete ```x``` even if it is an immutable object."
   ]
  },
  {
   "cell_type": "code",
   "execution_count": 478,
   "id": "014cf93e-e7fb-4f75-b409-4bdc36687403",
   "metadata": {},
   "outputs": [
    {
     "ename": "NameError",
     "evalue": "name 'x' is not defined",
     "output_type": "error",
     "traceback": [
      "\u001b[0;31m---------------------------------------------------------------------------\u001b[0m",
      "\u001b[0;31mNameError\u001b[0m                                 Traceback (most recent call last)",
      "Cell \u001b[0;32mIn[478], line 2\u001b[0m\n\u001b[1;32m      1\u001b[0m \u001b[38;5;28;01mdel\u001b[39;00m x\n\u001b[0;32m----> 2\u001b[0m x\n",
      "\u001b[0;31mNameError\u001b[0m: name 'x' is not defined"
     ]
    }
   ],
   "source": [
    "del x\n",
    "x"
   ]
  },
  {
   "cell_type": "markdown",
   "id": "fed0de85-7dda-4310-886f-be70b72949c7",
   "metadata": {},
   "source": [
    "We can also overwrite it:"
   ]
  },
  {
   "cell_type": "code",
   "execution_count": 519,
   "id": "6852b55f-6080-417e-a4d1-d9d1f9e907cf",
   "metadata": {},
   "outputs": [
    {
     "name": "stdout",
     "output_type": "stream",
     "text": [
      "(1, 2)\n",
      "[3, 2]\n"
     ]
    },
    {
     "data": {
      "text/plain": [
       "list"
      ]
     },
     "execution_count": 519,
     "metadata": {},
     "output_type": "execute_result"
    }
   ],
   "source": [
    "x = (1,2)\n",
    "print(x)\n",
    "x = [3,2]\n",
    "print(x)\n",
    "type(x)"
   ]
  },
  {
   "cell_type": "markdown",
   "id": "183e7d05",
   "metadata": {},
   "source": [
    "Tuples and lists can be unpacked as follows:"
   ]
  },
  {
   "cell_type": "code",
   "execution_count": 520,
   "id": "7db82930",
   "metadata": {},
   "outputs": [
    {
     "data": {
      "text/plain": [
       "10"
      ]
     },
     "execution_count": 520,
     "metadata": {},
     "output_type": "execute_result"
    }
   ],
   "source": [
    "integers = (10, 20, 30)\n",
    "x,y,z = integers\n",
    "x"
   ]
  },
  {
   "cell_type": "code",
   "execution_count": 521,
   "id": "e3a4c276",
   "metadata": {},
   "outputs": [
    {
     "data": {
      "text/plain": [
       "20"
      ]
     },
     "execution_count": 521,
     "metadata": {},
     "output_type": "execute_result"
    }
   ],
   "source": [
    "y"
   ]
  },
  {
   "cell_type": "code",
   "execution_count": 522,
   "id": "42aa2873-7d6e-4a2f-b798-efed1d586b7b",
   "metadata": {},
   "outputs": [
    {
     "data": {
      "text/plain": [
       "1"
      ]
     },
     "execution_count": 522,
     "metadata": {},
     "output_type": "execute_result"
    }
   ],
   "source": [
    "integer_list = [1,2,3]\n",
    "a,b,c = integer_list\n",
    "a"
   ]
  },
  {
   "cell_type": "markdown",
   "id": "6a6c6123",
   "metadata": {},
   "source": [
    "Tuple and list unpacking is convenient and we will use it from time to time."
   ]
  },
  {
   "cell_type": "markdown",
   "id": "db67294f",
   "metadata": {},
   "source": [
    "#### Slice Notation\n",
    "To access multiple elements of a sequence (a list, a tuple or a string), you can use Python's slice notation."
   ]
  },
  {
   "cell_type": "code",
   "execution_count": 523,
   "id": "d037caa9",
   "metadata": {},
   "outputs": [
    {
     "data": {
      "text/plain": [
       "['b', 'c', 'd', 'e']"
      ]
     },
     "execution_count": 523,
     "metadata": {},
     "output_type": "execute_result"
    }
   ],
   "source": [
    "a = [\"a\",\"b\", \"c\",\"d\",\"e\"]\n",
    "a[1:]"
   ]
  },
  {
   "cell_type": "code",
   "execution_count": 524,
   "id": "9bfe8afc",
   "metadata": {},
   "outputs": [
    {
     "data": {
      "text/plain": [
       "['b', 'c']"
      ]
     },
     "execution_count": 524,
     "metadata": {},
     "output_type": "execute_result"
    }
   ],
   "source": [
    "a[1:3]"
   ]
  },
  {
   "cell_type": "markdown",
   "id": "640e8a6a",
   "metadata": {},
   "source": [
    "The general rule is that `a[m:n]` returns `n - m` elements, starting at `a[m]`."
   ]
  },
  {
   "cell_type": "markdown",
   "id": "ec765163-3041-46af-af77-67794df5fade",
   "metadata": {},
   "source": [
    "Note, it does not return the nth element:"
   ]
  },
  {
   "cell_type": "code",
   "execution_count": 525,
   "id": "89c89915-793b-415f-af0a-d0ac36545337",
   "metadata": {},
   "outputs": [
    {
     "data": {
      "text/plain": [
       "'d'"
      ]
     },
     "execution_count": 525,
     "metadata": {},
     "output_type": "execute_result"
    }
   ],
   "source": [
    "a[3]"
   ]
  },
  {
   "cell_type": "markdown",
   "id": "47dd2c18-afc5-4b37-9717-6384bcf0b1a9",
   "metadata": {},
   "source": [
    "\n",
    "Negative numbers are also permissible."
   ]
  },
  {
   "cell_type": "code",
   "execution_count": 526,
   "id": "a4fa9502-1929-455a-afbb-6773e383c164",
   "metadata": {},
   "outputs": [
    {
     "data": {
      "text/plain": [
       "['d', 'e']"
      ]
     },
     "execution_count": 526,
     "metadata": {},
     "output_type": "execute_result"
    }
   ],
   "source": [
    "a[-2:] # last two elements"
   ]
  },
  {
   "cell_type": "markdown",
   "id": "2a4669a2",
   "metadata": {},
   "source": [
    "You can also use the format `[start:end:step]´ to specifiy the step."
   ]
  },
  {
   "cell_type": "code",
   "execution_count": 527,
   "id": "27cb073e",
   "metadata": {},
   "outputs": [
    {
     "data": {
      "text/plain": [
       "['a', 'c', 'e']"
      ]
     },
     "execution_count": 527,
     "metadata": {},
     "output_type": "execute_result"
    }
   ],
   "source": [
    "a[::2]"
   ]
  },
  {
   "cell_type": "markdown",
   "id": "4818e26b",
   "metadata": {},
   "source": [
    "Using a negative step, you can return the sequence in reversed order."
   ]
  },
  {
   "cell_type": "code",
   "execution_count": 528,
   "id": "6bb445fd",
   "metadata": {},
   "outputs": [
    {
     "data": {
      "text/plain": [
       "['d', 'c', 'b', 'a']"
      ]
     },
     "execution_count": 528,
     "metadata": {},
     "output_type": "execute_result"
    }
   ],
   "source": [
    "a[-2::-1] # go backwards from the second last element to the first element"
   ]
  },
  {
   "cell_type": "markdown",
   "id": "d88195c8",
   "metadata": {},
   "source": [
    "The same slice notation works on tuples and strings"
   ]
  },
  {
   "cell_type": "code",
   "execution_count": 529,
   "id": "c1f651e3",
   "metadata": {},
   "outputs": [
    {
     "data": {
      "text/plain": [
       "'Austin'"
      ]
     },
     "execution_count": 529,
     "metadata": {},
     "output_type": "execute_result"
    }
   ],
   "source": [
    "s = 'UT Austin'\n",
    "s[-6:] # select the last six elements"
   ]
  },
  {
   "cell_type": "markdown",
   "id": "3e6d2481-2814-4aa5-99ad-5de8dfccf1c3",
   "metadata": {},
   "source": [
    " # Exercise to do in class\n",
    "\n",
    " Using slice notation, return ```'ut'``` from ```s``` (not ```'UT'```)."
   ]
  },
  {
   "cell_type": "code",
   "execution_count": 582,
   "id": "300f10ef-0271-47f0-9106-c50d86efce29",
   "metadata": {},
   "outputs": [
    {
     "data": {
      "text/plain": [
       "'ut'"
      ]
     },
     "execution_count": 582,
     "metadata": {},
     "output_type": "execute_result"
    }
   ],
   "source": [
    "# Solution:\n",
    "s[4:7:2]"
   ]
  },
  {
   "cell_type": "markdown",
   "id": "b13690e2",
   "metadata": {},
   "source": [
    "#### Sets and Dictionaries\n",
    "Two other container types we should discuss are _sets_ and _dictionaries_.\n",
    "\n",
    "Dictionaries are much like lists, except that the items are named instead of numbered."
   ]
  },
  {
   "cell_type": "code",
   "execution_count": 531,
   "id": "75028d13",
   "metadata": {},
   "outputs": [
    {
     "data": {
      "text/plain": [
       "dict"
      ]
     },
     "execution_count": 531,
     "metadata": {},
     "output_type": "execute_result"
    }
   ],
   "source": [
    "d = {'name': 'Frodo', 'age': 33}\n",
    "type(d)"
   ]
  },
  {
   "cell_type": "code",
   "execution_count": 532,
   "id": "e11ee602",
   "metadata": {},
   "outputs": [
    {
     "data": {
      "text/plain": [
       "33"
      ]
     },
     "execution_count": 532,
     "metadata": {},
     "output_type": "execute_result"
    }
   ],
   "source": [
    "d['age']"
   ]
  },
  {
   "cell_type": "markdown",
   "id": "f68ad96a",
   "metadata": {},
   "source": [
    "The names `name` and `age` are called the _keys_.\n",
    "\n",
    "The objects that the keys are mapped to (`'Frodo'` and `33`) are called the `values`.\n",
    "\n",
    "**Sets** are unordered collections without duplicates, and set methods provide the usual set-theoretic operations."
   ]
  },
  {
   "cell_type": "code",
   "execution_count": 533,
   "id": "a394c3a9",
   "metadata": {},
   "outputs": [
    {
     "data": {
      "text/plain": [
       "set"
      ]
     },
     "execution_count": 533,
     "metadata": {},
     "output_type": "execute_result"
    }
   ],
   "source": [
    "s1 = {'a','b'}\n",
    "type(s1)"
   ]
  },
  {
   "cell_type": "code",
   "execution_count": 534,
   "id": "de335163",
   "metadata": {},
   "outputs": [
    {
     "data": {
      "text/plain": [
       "False"
      ]
     },
     "execution_count": 534,
     "metadata": {},
     "output_type": "execute_result"
    }
   ],
   "source": [
    "s2 = {'b','c'}\n",
    "s1.issubset(s2)"
   ]
  },
  {
   "cell_type": "code",
   "execution_count": 535,
   "id": "f563428f-365b-4508-bf86-c76d50c0bc24",
   "metadata": {},
   "outputs": [
    {
     "data": {
      "text/plain": [
       "True"
      ]
     },
     "execution_count": 535,
     "metadata": {},
     "output_type": "execute_result"
    }
   ],
   "source": [
    "s3 = {'c'}\n",
    "s3.issubset(s2)"
   ]
  },
  {
   "cell_type": "code",
   "execution_count": 536,
   "id": "50ff42f7",
   "metadata": {},
   "outputs": [
    {
     "data": {
      "text/plain": [
       "{'b'}"
      ]
     },
     "execution_count": 536,
     "metadata": {},
     "output_type": "execute_result"
    }
   ],
   "source": [
    "s1.intersection(s2)"
   ]
  },
  {
   "cell_type": "code",
   "execution_count": 537,
   "id": "f1d06822-70c9-47f2-8dd1-1e51330d7386",
   "metadata": {},
   "outputs": [
    {
     "data": {
      "text/plain": [
       "{'a', 'b', 'c'}"
      ]
     },
     "execution_count": 537,
     "metadata": {},
     "output_type": "execute_result"
    }
   ],
   "source": [
    "s1.union(s2)"
   ]
  },
  {
   "cell_type": "markdown",
   "id": "2009d21d",
   "metadata": {},
   "source": [
    "The `set()` function creates sets from sequences."
   ]
  },
  {
   "cell_type": "code",
   "execution_count": 538,
   "id": "5d8a8f13",
   "metadata": {},
   "outputs": [
    {
     "data": {
      "text/plain": [
       "{'Austin', 'UT'}"
      ]
     },
     "execution_count": 538,
     "metadata": {},
     "output_type": "execute_result"
    }
   ],
   "source": [
    "s3 = set(('UT', 'Austin', 'UT'))\n",
    "s3"
   ]
  },
  {
   "cell_type": "markdown",
   "id": "e5ab1118-ed85-4761-96df-3cd11e7a0e14",
   "metadata": {},
   "source": [
    "## Short \"break\": 3 examples from last year's midterm:\n",
    "\n",
    "(Remember, this is with paper and pencil, so no computer)"
   ]
  },
  {
   "cell_type": "code",
   "execution_count": 539,
   "id": "86bb2192-577c-4887-aadf-d0b162e3f90a",
   "metadata": {},
   "outputs": [
    {
     "data": {
      "text/plain": [
       "[10, 'UT', False]"
      ]
     },
     "execution_count": 539,
     "metadata": {},
     "output_type": "execute_result"
    }
   ],
   "source": [
    "# Example 1: What is the output of the following code?\n",
    "x = [10, 'UT', False]\n",
    "x"
   ]
  },
  {
   "cell_type": "code",
   "execution_count": 540,
   "id": "dee7f623-8bb8-4a33-9130-ac6adf89d7e2",
   "metadata": {},
   "outputs": [
    {
     "data": {
      "text/plain": [
       "True"
      ]
     },
     "execution_count": 540,
     "metadata": {},
     "output_type": "execute_result"
    }
   ],
   "source": [
    "# Example 2: What is the output of the following code?\n",
    "z = 10 < 100\n",
    "z"
   ]
  },
  {
   "cell_type": "markdown",
   "id": "666760fb-2ad1-4876-9f31-84a545fe6927",
   "metadata": {},
   "source": [
    "Example 3:\n",
    "\n",
    "Explain what the following code does:\n",
    "\n",
    "```python\n",
    "import numpy as np\n",
    "ϵ_values = 5*np.random.randn(100) -2\n",
    "```\n",
    "\n",
    "__Answer__: We import the library `numpy` which we save as `np` and then we use the `numpy` function `random.randn` to generate 100 draws from a normal distribution with standard deviation 5 and mean of -2 and store this as a `np.array` which we call`ϵ_values`.  "
   ]
  },
  {
   "cell_type": "markdown",
   "id": "c4bd7f9a",
   "metadata": {},
   "source": [
    "## Input and Output\n",
    "We can read and write to text files. Let's start by writing."
   ]
  },
  {
   "cell_type": "code",
   "execution_count": 541,
   "id": "a4b56e78",
   "metadata": {},
   "outputs": [],
   "source": [
    "f = open('filenew.txt','w') # open 'filenew.txt' for writing\n",
    "f.write('Testing\\n') # here '\\n' means new line\n",
    "f.write('Testing again')\n",
    "f.close()"
   ]
  },
  {
   "cell_type": "markdown",
   "id": "7a856ffc",
   "metadata": {},
   "source": [
    " - The built-in function `open()` creates a file object for writing to\n",
    " - both `write()` and `close()` are methods of file objects\n",
    " \n",
    "Where is the file we just created? \n",
    "\n",
    "Python maintains a concept of the present working directory (pwd) that can be located via"
   ]
  },
  {
   "cell_type": "code",
   "execution_count": 542,
   "id": "354dcf59",
   "metadata": {},
   "outputs": [
    {
     "data": {
      "text/plain": [
       "'/Users/op3563/Dropbox/Eco363C_Spring2025/Lectures/L5'"
      ]
     },
     "execution_count": 542,
     "metadata": {},
     "output_type": "execute_result"
    }
   ],
   "source": [
    "%pwd"
   ]
  },
  {
   "cell_type": "markdown",
   "id": "d1e2ef16",
   "metadata": {},
   "source": [
    "We can also read the contents of text files as follows:"
   ]
  },
  {
   "cell_type": "code",
   "execution_count": 543,
   "id": "836161bc",
   "metadata": {},
   "outputs": [
    {
     "data": {
      "text/plain": [
       "'Testing\\nTesting again'"
      ]
     },
     "execution_count": 543,
     "metadata": {},
     "output_type": "execute_result"
    }
   ],
   "source": [
    "f = open('filenew.txt','r')\n",
    "out = f.read()\n",
    "out"
   ]
  },
  {
   "cell_type": "code",
   "execution_count": 544,
   "id": "146c97b8",
   "metadata": {},
   "outputs": [
    {
     "name": "stdout",
     "output_type": "stream",
     "text": [
      "Testing\n",
      "Testing again\n"
     ]
    }
   ],
   "source": [
    "print(out)"
   ]
  },
  {
   "cell_type": "markdown",
   "id": "223f8878",
   "metadata": {},
   "source": [
    "The recommended approach in Python is to use a `with` statement to ensure the files are properly acquired and released.\n",
    "\n",
    "This also improves the clarity of the code.\n",
    "\n",
    "Let's start by changing the writing example."
   ]
  },
  {
   "cell_type": "code",
   "execution_count": 545,
   "id": "536c907c",
   "metadata": {},
   "outputs": [],
   "source": [
    "with open('filenew.txt','w') as f:\n",
    "    f.write('Testing\\n')\n",
    "    f.write('Testing again')"
   ]
  },
  {
   "cell_type": "markdown",
   "id": "c00c719b",
   "metadata": {},
   "source": [
    "Note, that we do not need to call the `close` method since the `with` block will ensure the stream is closed at the end of the block.\n",
    "\n",
    "We can also read the file in the same style."
   ]
  },
  {
   "cell_type": "code",
   "execution_count": 546,
   "id": "b7479856",
   "metadata": {},
   "outputs": [
    {
     "name": "stdout",
     "output_type": "stream",
     "text": [
      "Testing\n",
      "Testing again\n"
     ]
    }
   ],
   "source": [
    "with open('filenew.txt','r') as fo:\n",
    "    out = fo.read()\n",
    "    print(out)"
   ]
  },
  {
   "cell_type": "markdown",
   "id": "83325d88",
   "metadata": {},
   "source": [
    "Now suppose that we want to read input from one file and write output to another. Here is how we could accomplish this task while correctly acquiring and returning resources to the operating system using `with` statements."
   ]
  },
  {
   "cell_type": "code",
   "execution_count": 547,
   "id": "2ca2ac8c",
   "metadata": {},
   "outputs": [
    {
     "name": "stdout",
     "output_type": "stream",
     "text": [
      "['Testing\\n', 'Testing again']\n"
     ]
    }
   ],
   "source": [
    "with open(\"filenew.txt\",\"r\") as f:\n",
    "    file = f.readlines()\n",
    "    print(file)\n",
    "    with open(\"output.txt\",\"w\") as fo:\n",
    "        for i, line in enumerate(file):\n",
    "            fo.write(f'Line {i}: {line} \\n')"
   ]
  },
  {
   "cell_type": "markdown",
   "id": "cef62390",
   "metadata": {},
   "source": [
    "The output file will be:"
   ]
  },
  {
   "cell_type": "code",
   "execution_count": 548,
   "id": "48139b1e",
   "metadata": {},
   "outputs": [
    {
     "name": "stdout",
     "output_type": "stream",
     "text": [
      "Line 0: Testing\n",
      " \n",
      "Line 1: Testing again \n",
      "\n"
     ]
    }
   ],
   "source": [
    "with open('output.txt','r') as fo:\n",
    "    print(fo.read())"
   ]
  },
  {
   "cell_type": "markdown",
   "id": "b15c5ea5",
   "metadata": {},
   "source": [
    "We can simplify the example above by grouping the two `with` statements into one line:"
   ]
  },
  {
   "cell_type": "code",
   "execution_count": 549,
   "id": "93ee8eaf",
   "metadata": {},
   "outputs": [],
   "source": [
    "with open(\"filenew.txt\",\"r\") as f, open(\"output2.txt\",\"w\") as fo:\n",
    "    for i, line in enumerate(f):\n",
    "        fo.write(f'Line {i}: {line} \\n')"
   ]
  },
  {
   "cell_type": "markdown",
   "id": "10a6162b",
   "metadata": {},
   "source": [
    "The output will be the same:"
   ]
  },
  {
   "cell_type": "code",
   "execution_count": 550,
   "id": "0db13cbe",
   "metadata": {},
   "outputs": [
    {
     "name": "stdout",
     "output_type": "stream",
     "text": [
      "Line 0: Testing\n",
      " \n",
      "Line 1: Testing again \n",
      "\n"
     ]
    }
   ],
   "source": [
    "with open('output2.txt', 'r') as fo:\n",
    "    print(fo.read())"
   ]
  },
  {
   "cell_type": "markdown",
   "id": "db0cf82d",
   "metadata": {},
   "source": [
    "Suppose we want to continue to write into the existing file instead of overwriting it.\n",
    "\n",
    "We can switch the mode to `a` which stands for _append_ mode."
   ]
  },
  {
   "cell_type": "code",
   "execution_count": 551,
   "id": "eb8ff906",
   "metadata": {},
   "outputs": [],
   "source": [
    "with open('output2.txt','a') as fo:\n",
    "    fo.write('\\nThis is the end of the file')"
   ]
  },
  {
   "cell_type": "code",
   "execution_count": 552,
   "id": "b9032c42",
   "metadata": {},
   "outputs": [
    {
     "name": "stdout",
     "output_type": "stream",
     "text": [
      "Line 0: Testing\n",
      " \n",
      "Line 1: Testing again \n",
      "\n",
      "This is the end of the file\n"
     ]
    }
   ],
   "source": [
    "with open('output2.txt', 'r') as fo:\n",
    "    print(fo.read())"
   ]
  },
  {
   "cell_type": "markdown",
   "id": "6bccb0e7",
   "metadata": {},
   "source": [
    "### Paths\n",
    "Note that if `filenew.txt` is not in  the pwd, then the call to `open()` fails. In that case, we can shift the file to the pwd or specify the full path to the file:\n",
    "```python\n",
    "f = open('insert_path_to_file\\filenew.txt','r')\n",
    "```"
   ]
  },
  {
   "cell_type": "markdown",
   "id": "c24a5793",
   "metadata": {},
   "source": [
    "## Iterating\n",
    "One of the most important tasks in computing is stepping through a sequence of data and performing a given action.\n",
    "\n",
    "One of Python's strengths is its simple, flexible interface to this kind of iteration via the `for` loop.\n",
    "\n",
    "### Looping over different objects\n",
    "\n",
    "Many Python objects are _iterable_, in the sense that they can be looped over.\n",
    "\n",
    "To give an example, let's write a file called tx_cities.txt, which lists cities in Texas and their population to the pwd."
   ]
  },
  {
   "cell_type": "code",
   "execution_count": 553,
   "id": "75801938",
   "metadata": {},
   "outputs": [
    {
     "name": "stdout",
     "output_type": "stream",
     "text": [
      "Overwriting tx_cities.txt\n"
     ]
    }
   ],
   "source": [
    "%%writefile tx_cities.txt\n",
    "houston: 2296253\n",
    "san antonio: 1445662\n",
    "dallas: 1300642\n",
    "austin: 958202\n",
    "fort worth: 924663\n",
    "el paso: 677181\n",
    "arlington: 393469\n",
    "corpus christi: 317804\n",
    "plano: 284948\n",
    "lubbock: 258190"
   ]
  },
  {
   "cell_type": "markdown",
   "id": "ec79aa8d-7603-4372-b444-3288db8aa3a8",
   "metadata": {},
   "source": [
    "## Exercise to do in class:\n",
    "\n",
    "Write a text file called ```tx_cities2``` that containts the same first 4 entries as ```tx_cities.txt``` but using the syntax\n",
    "```with open('','') as f:```"
   ]
  },
  {
   "cell_type": "code",
   "execution_count": 583,
   "id": "3841578e-b0b7-48d3-bbd7-cc654b346d6c",
   "metadata": {},
   "outputs": [],
   "source": [
    "#Solution\n",
    "with open('tx_cities2.txt','w') as f:\n",
    "    f.write('houston: 2296253\\n')\n",
    "    f.write('san antonio: 1445662\\n')\n",
    "    f.write('dallas: 1300642\\n')\n",
    "    f.write('austin: 958202')"
   ]
  },
  {
   "cell_type": "markdown",
   "id": "d58c6aa9",
   "metadata": {},
   "source": [
    "Now, suppose we want to make the information in this file more readable, by capitalizing names and adding commas to mark thousands.\n",
    "\n",
    "The following program first reads the data and then makes the conversions."
   ]
  },
  {
   "cell_type": "code",
   "execution_count": 554,
   "id": "58fa3d9c",
   "metadata": {},
   "outputs": [
    {
     "name": "stdout",
     "output_type": "stream",
     "text": [
      "Houston          2,296,253\n",
      "San Antonio      1,445,662\n",
      "Dallas           1,300,642\n",
      "Austin           958,202\n",
      "Fort Worth       924,663\n",
      "El Paso          677,181\n",
      "Arlington        393,469\n",
      "Corpus Christi   317,804\n",
      "Plano            284,948\n",
      "Lubbock          258,190\n"
     ]
    }
   ],
   "source": [
    "data_file = open('tx_cities.txt', 'r')\n",
    "for line in data_file:\n",
    "    city, population = line.split(':') # tuple unpacking\n",
    "    city = city.title() # capitalize city names\n",
    "    population = f'{int(population):,}' # add commas to numbers\n",
    "    print(city.ljust(17) + population)\n",
    "data_file.close()"
   ]
  },
  {
   "cell_type": "markdown",
   "id": "47142db0",
   "metadata": {},
   "source": [
    "Here `f{}` is a string method (**f-string**) which is used for formatting strings in a clean and readable way.\n",
    "\n",
    "The reformatting of each line is the result of three different string methods, the details of which can be left until later.\n",
    "\n",
    "The interesting part of the program for us is the second line, which shows that\n",
    "\n",
    " 1. the file object `data_file` is iterable, in the sense that it can be placed to the right of `in` within a `for` loop\n",
    " 2. iteration steps through each line in the file\n",
    " \n",
    "This leads to the clean, convenient syntax shown in the program.\n",
    "\n",
    "Many other kinds of objects are iterable, and we will discuss many of them later."
   ]
  },
  {
   "cell_type": "markdown",
   "id": "ea27026e",
   "metadata": {},
   "source": [
    "### Looping without Indices\n",
    "Python tends to favor looping without explicit indexing."
   ]
  },
  {
   "cell_type": "code",
   "execution_count": 555,
   "id": "d9eb82ba",
   "metadata": {},
   "outputs": [
    {
     "name": "stdout",
     "output_type": "stream",
     "text": [
      "1\n",
      "4\n",
      "9\n"
     ]
    }
   ],
   "source": [
    "x_values = [1, 2, 3]\n",
    "for x in x_values:\n",
    "    print(x * x)"
   ]
  },
  {
   "cell_type": "markdown",
   "id": "5ffbccdc",
   "metadata": {},
   "source": [
    "The previous program is preferred to the following one:"
   ]
  },
  {
   "cell_type": "code",
   "execution_count": 556,
   "id": "d839eb78",
   "metadata": {},
   "outputs": [
    {
     "name": "stdout",
     "output_type": "stream",
     "text": [
      "1\n",
      "4\n",
      "9\n"
     ]
    }
   ],
   "source": [
    "for i in range(len(x_values)):\n",
    "    print(x_values[i] * x_values[i])"
   ]
  },
  {
   "cell_type": "markdown",
   "id": "c5f989ee",
   "metadata": {},
   "source": [
    "You can probably see why the first one is preferred.\n",
    "\n",
    "Python provides some facilities to simplify looping without indices. \n",
    "\n",
    "One is `zip()`, which is used for stepping through pairs from two sequences.\n",
    "\n",
    "For example, consider the following program."
   ]
  },
  {
   "cell_type": "code",
   "execution_count": 557,
   "id": "e19e77e8",
   "metadata": {},
   "outputs": [
    {
     "name": "stdout",
     "output_type": "stream",
     "text": [
      "The capital of Japan is Tokyo.\n",
      "The capital of Italy is Rome.\n",
      "The capital of Switzerland is Bern.\n"
     ]
    }
   ],
   "source": [
    "countries = ('Japan', 'Italy', 'Switzerland')\n",
    "cities = ('Tokyo', 'Rome', 'Bern')\n",
    "for country, city in zip(countries, cities):\n",
    "    print(f'The capital of {country} is {city}.')"
   ]
  },
  {
   "cell_type": "markdown",
   "id": "de0f2515-4d0c-40b2-a88e-b1ec9e61fc79",
   "metadata": {},
   "source": [
    "## Exercise to do in class:\n",
    "\n",
    "Building on the previous code snippet, look up the population of the 3 capital cities from the previous example and write a short code (using the `zip()` method) that yields as output a sentence stating the capital of the countries and their population size (use again the `f.` method).\n",
    "\n",
    "The output should be something like:\n",
    "'The capital of Japan is Tokyo with a population of 45 million people.'"
   ]
  },
  {
   "cell_type": "code",
   "execution_count": 584,
   "id": "3f58e9b0-c7b2-4104-98ef-d6fca9aa299a",
   "metadata": {},
   "outputs": [
    {
     "name": "stdout",
     "output_type": "stream",
     "text": [
      "The capital of Japan is Tokyo with a population of 37 million people.\n",
      "The capital of Italy is Rome with a population of 4.3 million people.\n",
      "The capital of Switzerland is Bern with a population of 0.45 million people.\n"
     ]
    }
   ],
   "source": [
    "# Solution\n",
    "countries = ('Japan', 'Italy', 'Switzerland')\n",
    "cities = ('Tokyo', 'Rome', 'Bern')\n",
    "population = (37, 4.3, 0.45) # these numbers may differ, depending on the source and the exact definition of the city areas...\n",
    "for country, city, population in zip(countries, cities, population):\n",
    "    print(f'The capital of {country} is {city} with a population of {population} million people.')"
   ]
  },
  {
   "cell_type": "markdown",
   "id": "b9682406",
   "metadata": {},
   "source": [
    "The `zip()` function is also useful for creating dictionaries, for example:"
   ]
  },
  {
   "cell_type": "code",
   "execution_count": 558,
   "id": "89b6036b",
   "metadata": {},
   "outputs": [
    {
     "data": {
      "text/plain": [
       "{'Tom': 'A', 'John': 'B'}"
      ]
     },
     "execution_count": 558,
     "metadata": {},
     "output_type": "execute_result"
    }
   ],
   "source": [
    "names = ['Tom', 'John']\n",
    "grades = ['A', 'B']\n",
    "dict(zip(names,grades))"
   ]
  },
  {
   "cell_type": "markdown",
   "id": "20a37a24",
   "metadata": {},
   "source": [
    "If we need the index from a list, one option is to use `enumerate()`.\n",
    "\n",
    "To understand what `enumerate()` does, consider the following example:"
   ]
  },
  {
   "cell_type": "code",
   "execution_count": 559,
   "id": "86863be1",
   "metadata": {},
   "outputs": [
    {
     "name": "stdout",
     "output_type": "stream",
     "text": [
      "letter_list[0] = 'a'\n",
      "letter_list[1] = 'b'\n",
      "letter_list[2] = 'c'\n"
     ]
    }
   ],
   "source": [
    "letter_list = ['a','b','c']\n",
    "for index, letter in enumerate(letter_list):\n",
    "    print(f\"letter_list[{index}] = '{letter}'\")"
   ]
  },
  {
   "cell_type": "markdown",
   "id": "f0a94f00",
   "metadata": {},
   "source": [
    "### List Comprehensions\n",
    "List comprehensions are an elegant Python tool for creating lists.\n",
    "\n",
    "Consider the following example, where the list comprehension is on the right-hand side of the second line."
   ]
  },
  {
   "cell_type": "code",
   "execution_count": 560,
   "id": "d6a7ef1e",
   "metadata": {},
   "outputs": [
    {
     "data": {
      "text/plain": [
       "['dogs', 'cats', 'birds']"
      ]
     },
     "execution_count": 560,
     "metadata": {},
     "output_type": "execute_result"
    }
   ],
   "source": [
    "animals = ['dog', 'cat', 'bird']\n",
    "plurals = [animal + 's' for animal in animals]\n",
    "plurals"
   ]
  },
  {
   "cell_type": "markdown",
   "id": "9b2a9b97",
   "metadata": {},
   "source": [
    "Another example:"
   ]
  },
  {
   "cell_type": "code",
   "execution_count": 561,
   "id": "7ba4de57",
   "metadata": {},
   "outputs": [
    {
     "data": {
      "text/plain": [
       "[0, 2, 4, 6, 8, 10, 12, 14]"
      ]
     },
     "execution_count": 561,
     "metadata": {},
     "output_type": "execute_result"
    }
   ],
   "source": [
    "doubles = [2 * x for x in range(8)]\n",
    "doubles"
   ]
  },
  {
   "cell_type": "markdown",
   "id": "15742648-6f11-4f42-b5be-6279192a4942",
   "metadata": {},
   "source": [
    "## Exercise to do in class:\n",
    "\n",
    "Use `enumerate`, two `for` loops (one to step through the countries and one to step through the cities) and an `if` condition to obtain the output we saw before that reads:\n",
    "\n",
    "The capital of Japan is Tokyo.\\\n",
    "The capital of Italy is Rome.\\\n",
    "The capital of Switzerland is Bern."
   ]
  },
  {
   "cell_type": "code",
   "execution_count": 585,
   "id": "c6ee32e8-758f-4b01-bd1a-ade7655e9b7f",
   "metadata": {},
   "outputs": [
    {
     "name": "stdout",
     "output_type": "stream",
     "text": [
      "The capital of Japan is Tokyo.\n",
      "The capital of Italy is Rome.\n",
      "The capital of Switzerland is Bern.\n"
     ]
    }
   ],
   "source": [
    "# Solution\n",
    "for i, country in enumerate(countries):\n",
    "    for j, city in enumerate(cities):\n",
    "        if i == j:\n",
    "            print(f'The capital of {country} is {city}.')"
   ]
  },
  {
   "cell_type": "code",
   "execution_count": 586,
   "id": "126fefc5-8f6a-4e12-b44c-81c52629d3dd",
   "metadata": {},
   "outputs": [
    {
     "name": "stdout",
     "output_type": "stream",
     "text": [
      "i = 0\n",
      "j = 0\n",
      "The capital of Japan is Tokyo.\n",
      "j = 1\n",
      "j = 2\n",
      "i = 1\n",
      "j = 0\n",
      "j = 1\n",
      "The capital of Italy is Rome.\n",
      "j = 2\n",
      "i = 2\n",
      "j = 0\n",
      "j = 1\n",
      "j = 2\n",
      "The capital of Switzerland is Bern.\n"
     ]
    }
   ],
   "source": [
    "# Additional print commands to illustrate how Python \"steps through\" the two tuples.\n",
    "for i, country in enumerate(countries):\n",
    "    print(f'i = {i}')\n",
    "    for j, city in enumerate(cities):\n",
    "        print(f'j = {j}')\n",
    "        if i == j:\n",
    "            print(f'The capital of {country} is {city}.')"
   ]
  },
  {
   "cell_type": "markdown",
   "id": "d7071823",
   "metadata": {},
   "source": [
    "## Comparisons and Logical Operators\n",
    "Many different kinds of expressions evaluate to one of the Boolean values."
   ]
  },
  {
   "cell_type": "code",
   "execution_count": 562,
   "id": "373e202b",
   "metadata": {},
   "outputs": [
    {
     "data": {
      "text/plain": [
       "True"
      ]
     },
     "execution_count": 562,
     "metadata": {},
     "output_type": "execute_result"
    }
   ],
   "source": [
    "x, y = 1,2 \n",
    "x < y"
   ]
  },
  {
   "cell_type": "code",
   "execution_count": 563,
   "id": "78770be5",
   "metadata": {},
   "outputs": [
    {
     "data": {
      "text/plain": [
       "False"
      ]
     },
     "execution_count": 563,
     "metadata": {},
     "output_type": "execute_result"
    }
   ],
   "source": [
    "x > y"
   ]
  },
  {
   "cell_type": "markdown",
   "id": "ea17730f",
   "metadata": {},
   "source": [
    "What is nice about Python is that we can _chain_ inequalities:"
   ]
  },
  {
   "cell_type": "code",
   "execution_count": 564,
   "id": "523833a5",
   "metadata": {},
   "outputs": [
    {
     "data": {
      "text/plain": [
       "True"
      ]
     },
     "execution_count": 564,
     "metadata": {},
     "output_type": "execute_result"
    }
   ],
   "source": [
    "1 < 2 < 3"
   ]
  },
  {
   "cell_type": "code",
   "execution_count": 565,
   "id": "26f05e3d",
   "metadata": {},
   "outputs": [
    {
     "data": {
      "text/plain": [
       "True"
      ]
     },
     "execution_count": 565,
     "metadata": {},
     "output_type": "execute_result"
    }
   ],
   "source": [
    "1 <= 2 <= 2 < 3"
   ]
  },
  {
   "cell_type": "markdown",
   "id": "62c5d886",
   "metadata": {},
   "source": [
    "We already saw before that when we test for equality, we use `==`."
   ]
  },
  {
   "cell_type": "code",
   "execution_count": 566,
   "id": "c1a4a6d1",
   "metadata": {},
   "outputs": [
    {
     "data": {
      "text/plain": [
       "False"
      ]
     },
     "execution_count": 566,
     "metadata": {},
     "output_type": "execute_result"
    }
   ],
   "source": [
    "x = 1 # assign the value 1 to x\n",
    "x == 2 # comparison: is x equal to 1?"
   ]
  },
  {
   "cell_type": "markdown",
   "id": "a3482b0a",
   "metadata": {},
   "source": [
    "For \"not equal\", we use `!=`."
   ]
  },
  {
   "cell_type": "code",
   "execution_count": 567,
   "id": "6b026d61",
   "metadata": {},
   "outputs": [
    {
     "data": {
      "text/plain": [
       "True"
      ]
     },
     "execution_count": 567,
     "metadata": {},
     "output_type": "execute_result"
    }
   ],
   "source": [
    "1 != 2"
   ]
  },
  {
   "cell_type": "markdown",
   "id": "962e5135",
   "metadata": {},
   "source": [
    "We can use __any__ valid Python expression when testing conditions."
   ]
  },
  {
   "cell_type": "code",
   "execution_count": 568,
   "id": "444c70aa",
   "metadata": {},
   "outputs": [
    {
     "data": {
      "text/plain": [
       "'yes'"
      ]
     },
     "execution_count": 568,
     "metadata": {},
     "output_type": "execute_result"
    }
   ],
   "source": [
    "x = 'yes' if 1234 else 'no'\n",
    "x"
   ]
  },
  {
   "cell_type": "code",
   "execution_count": 569,
   "id": "ce0cd807",
   "metadata": {},
   "outputs": [
    {
     "data": {
      "text/plain": [
       "'no'"
      ]
     },
     "execution_count": 569,
     "metadata": {},
     "output_type": "execute_result"
    }
   ],
   "source": [
    "x = 'yes' if [] else 'no'\n",
    "x"
   ]
  },
  {
   "cell_type": "markdown",
   "id": "d51da026",
   "metadata": {},
   "source": [
    "What is happening here?\n",
    "\n",
    "The rule is:\n",
    "\n",
    " - expressions that evaluate to zero, empty sequences or containers (strings, lists, etc.) and `None` are all equivalent to `False`.\n",
    "     - for example, `[]` and `()` are equivalent to False in an `if` clause\n",
    " - all other values are equivalent to `True`\n",
    "    - for example, `1234` is equivalent to `True` in an `if` clause\n",
    "    \n",
    "\n",
    "### Combining expressions\n",
    "We can combine expressions using `and`, `or`, and `not` (these are the standard logical connectives (conjunction, disjunction and denial))"
   ]
  },
  {
   "cell_type": "code",
   "execution_count": 570,
   "id": "784521f3",
   "metadata": {},
   "outputs": [
    {
     "data": {
      "text/plain": [
       "True"
      ]
     },
     "execution_count": 570,
     "metadata": {},
     "output_type": "execute_result"
    }
   ],
   "source": [
    "1 < 2 and 'A' in 'Austin'"
   ]
  },
  {
   "cell_type": "code",
   "execution_count": 571,
   "id": "e9a49580",
   "metadata": {},
   "outputs": [
    {
     "data": {
      "text/plain": [
       "False"
      ]
     },
     "execution_count": 571,
     "metadata": {},
     "output_type": "execute_result"
    }
   ],
   "source": [
    "1 < 2 and 'g' in 'Austin'"
   ]
  },
  {
   "cell_type": "code",
   "execution_count": 572,
   "id": "2bf6b17d",
   "metadata": {},
   "outputs": [
    {
     "data": {
      "text/plain": [
       "True"
      ]
     },
     "execution_count": 572,
     "metadata": {},
     "output_type": "execute_result"
    }
   ],
   "source": [
    "1 < 2 or 'g' in 'Austin'"
   ]
  },
  {
   "cell_type": "code",
   "execution_count": 573,
   "id": "d18dd413",
   "metadata": {},
   "outputs": [
    {
     "data": {
      "text/plain": [
       "False"
      ]
     },
     "execution_count": 573,
     "metadata": {},
     "output_type": "execute_result"
    }
   ],
   "source": [
    "not True"
   ]
  },
  {
   "cell_type": "code",
   "execution_count": 574,
   "id": "a6f46ee9",
   "metadata": {},
   "outputs": [
    {
     "data": {
      "text/plain": [
       "False"
      ]
     },
     "execution_count": 574,
     "metadata": {},
     "output_type": "execute_result"
    }
   ],
   "source": [
    "not 1234"
   ]
  },
  {
   "cell_type": "code",
   "execution_count": 575,
   "id": "ad73239f",
   "metadata": {},
   "outputs": [
    {
     "data": {
      "text/plain": [
       "True"
      ]
     },
     "execution_count": 575,
     "metadata": {},
     "output_type": "execute_result"
    }
   ],
   "source": [
    "not not 1234"
   ]
  },
  {
   "cell_type": "markdown",
   "id": "850334d9",
   "metadata": {},
   "source": [
    "Remember:\n",
    "\n",
    " - `P and Q` is `True` if both are `True`, else `False`\n",
    " - `P or Q` is `False` if both are `False`, else `True`\n",
    "\n",
    "We can also use `all()` and `any()` to test a sequence of expressions. "
   ]
  },
  {
   "cell_type": "code",
   "execution_count": 576,
   "id": "1894fa49",
   "metadata": {},
   "outputs": [
    {
     "data": {
      "text/plain": [
       "True"
      ]
     },
     "execution_count": 576,
     "metadata": {},
     "output_type": "execute_result"
    }
   ],
   "source": [
    "all([1 <= 2 <= 3, 5<= 6 < 7])"
   ]
  },
  {
   "cell_type": "code",
   "execution_count": 577,
   "id": "135ac244",
   "metadata": {},
   "outputs": [
    {
     "data": {
      "text/plain": [
       "False"
      ]
     },
     "execution_count": 577,
     "metadata": {},
     "output_type": "execute_result"
    }
   ],
   "source": [
    "all([1 < 2, 'b' in 'Austin'])"
   ]
  },
  {
   "cell_type": "code",
   "execution_count": 578,
   "id": "ed61e21b",
   "metadata": {},
   "outputs": [
    {
     "data": {
      "text/plain": [
       "True"
      ]
     },
     "execution_count": 578,
     "metadata": {},
     "output_type": "execute_result"
    }
   ],
   "source": [
    "any([1 < 2, 'b' in 'Austin'])"
   ]
  },
  {
   "cell_type": "markdown",
   "id": "42d50cbd",
   "metadata": {},
   "source": [
    "## Coding Style and Documentation\n",
    "A consistent coding style and the use of documentation can make the code easier to understand and maintain."
   ]
  },
  {
   "cell_type": "markdown",
   "id": "ffb3de1f",
   "metadata": {},
   "source": [
    "The standard style in Python is set out in [PEP8](https://peps.python.org/pep-0008/).\n",
    "\n",
    "### Docstrings\n",
    "Python has a system for adding comments to modules, classes, functions, etc., called _docstrings_.\n",
    "\n",
    "The nice thing about docstrings is that they are available at run time.\n",
    "\n",
    "Try running this:"
   ]
  },
  {
   "cell_type": "code",
   "execution_count": 579,
   "id": "0ee1cf1c",
   "metadata": {},
   "outputs": [],
   "source": [
    "def f(x):\n",
    "    \"\"\"\n",
    "    This function squares its argument\n",
    "    \"\"\"\n",
    "    return x**2"
   ]
  },
  {
   "cell_type": "markdown",
   "id": "b313a451",
   "metadata": {},
   "source": [
    "Now, the docstring is available (if we ran the code):"
   ]
  },
  {
   "cell_type": "code",
   "execution_count": 580,
   "id": "e395e499",
   "metadata": {},
   "outputs": [
    {
     "data": {
      "text/plain": [
       "\u001b[0;31mSignature:\u001b[0m \u001b[0mf\u001b[0m\u001b[0;34m(\u001b[0m\u001b[0mx\u001b[0m\u001b[0;34m)\u001b[0m\u001b[0;34m\u001b[0m\u001b[0;34m\u001b[0m\u001b[0m\n",
       "\u001b[0;31mDocstring:\u001b[0m This function squares its argument\n",
       "\u001b[0;31mFile:\u001b[0m      /var/folders/6k/mjb8dkjj2_z4d91xyq8c1fq80000gq/T/ipykernel_92795/238177437.py\n",
       "\u001b[0;31mType:\u001b[0m      function"
      ]
     },
     "metadata": {},
     "output_type": "display_data"
    }
   ],
   "source": [
    "f?"
   ]
  },
  {
   "cell_type": "code",
   "execution_count": 581,
   "id": "84c2347f",
   "metadata": {},
   "outputs": [
    {
     "data": {
      "text/plain": [
       "\u001b[0;31mSignature:\u001b[0m \u001b[0mf\u001b[0m\u001b[0;34m(\u001b[0m\u001b[0mx\u001b[0m\u001b[0;34m)\u001b[0m\u001b[0;34m\u001b[0m\u001b[0;34m\u001b[0m\u001b[0m\n",
       "\u001b[0;31mSource:\u001b[0m   \n",
       "\u001b[0;32mdef\u001b[0m \u001b[0mf\u001b[0m\u001b[0;34m(\u001b[0m\u001b[0mx\u001b[0m\u001b[0;34m)\u001b[0m\u001b[0;34m:\u001b[0m\u001b[0;34m\u001b[0m\n",
       "\u001b[0;34m\u001b[0m    \u001b[0;34m\"\"\"\u001b[0m\n",
       "\u001b[0;34m    This function squares its argument\u001b[0m\n",
       "\u001b[0;34m    \"\"\"\u001b[0m\u001b[0;34m\u001b[0m\n",
       "\u001b[0;34m\u001b[0m    \u001b[0;32mreturn\u001b[0m \u001b[0mx\u001b[0m\u001b[0;34m**\u001b[0m\u001b[0;36m2\u001b[0m\u001b[0;34m\u001b[0m\u001b[0;34m\u001b[0m\u001b[0m\n",
       "\u001b[0;31mFile:\u001b[0m      /var/folders/6k/mjb8dkjj2_z4d91xyq8c1fq80000gq/T/ipykernel_92795/238177437.py\n",
       "\u001b[0;31mType:\u001b[0m      function"
      ]
     },
     "metadata": {},
     "output_type": "display_data"
    }
   ],
   "source": [
    "f??"
   ]
  },
  {
   "cell_type": "markdown",
   "id": "2269402a",
   "metadata": {},
   "source": [
    "With one question mark, we bring up the docstring, and with two we get the source code as well."
   ]
  }
 ],
 "metadata": {
  "kernelspec": {
   "display_name": "Python 3 (ipykernel)",
   "language": "python",
   "name": "python3"
  },
  "language_info": {
   "codemirror_mode": {
    "name": "ipython",
    "version": 3
   },
   "file_extension": ".py",
   "mimetype": "text/x-python",
   "name": "python",
   "nbconvert_exporter": "python",
   "pygments_lexer": "ipython3",
   "version": "3.11.7"
  }
 },
 "nbformat": 4,
 "nbformat_minor": 5
}
